{
 "cells": [
  {
   "cell_type": "markdown",
   "id": "c381a8f6-199b-44f6-a9e5-43eede2c4bcc",
   "metadata": {},
   "source": [
    "# KET Apple Marketing Team"
   ]
  },
  {
   "cell_type": "code",
   "execution_count": 753,
   "id": "aa7801e8-f5ce-46d4-9523-1d85763982d3",
   "metadata": {},
   "outputs": [
    {
     "name": "stdout",
     "output_type": "stream",
     "text": [
      "The autoreload extension is already loaded. To reload it, use:\n",
      "  %reload_ext autoreload\n"
     ]
    }
   ],
   "source": [
    "%load_ext autoreload\n",
    "%autoreload 2\n",
    "\n",
    "import os\n",
    "import sys\n",
    "module_path = os.path.abspath(os.path.join(os.pardir, os.pardir))\n",
    "if module_path not in sys.path:\n",
    "    sys.path.append(module_path)\n",
    "    \n",
    "import pandas as pd\n",
    "import nltk\n",
    "from nltk.stem import PorterStemmer\n",
    "from nltk.probability import FreqDist\n",
    "from nltk.corpus import stopwords\n",
    "from nltk.tokenize import regexp_tokenize, word_tokenize, RegexpTokenizer\n",
    "import matplotlib.pyplot as plt\n",
    "import string\n",
    "import re"
   ]
  },
  {
   "cell_type": "code",
   "execution_count": 754,
   "id": "6cf6d03b-0de2-41a4-a7ce-6c958fdba339",
   "metadata": {},
   "outputs": [],
   "source": [
    "df = pd.read_csv('data/judge-1377884607_tweet_product_company.csv', encoding='latin1')\n"
   ]
  },
  {
   "cell_type": "code",
   "execution_count": 755,
   "id": "5025fa93-7989-468a-930c-e942d68ae436",
   "metadata": {},
   "outputs": [
    {
     "data": {
      "text/html": [
       "<div>\n",
       "<style scoped>\n",
       "    .dataframe tbody tr th:only-of-type {\n",
       "        vertical-align: middle;\n",
       "    }\n",
       "\n",
       "    .dataframe tbody tr th {\n",
       "        vertical-align: top;\n",
       "    }\n",
       "\n",
       "    .dataframe thead th {\n",
       "        text-align: right;\n",
       "    }\n",
       "</style>\n",
       "<table border=\"1\" class=\"dataframe\">\n",
       "  <thead>\n",
       "    <tr style=\"text-align: right;\">\n",
       "      <th></th>\n",
       "      <th>tweet_text</th>\n",
       "      <th>emotion_in_tweet_is_directed_at</th>\n",
       "      <th>is_there_an_emotion_directed_at_a_brand_or_product</th>\n",
       "    </tr>\n",
       "  </thead>\n",
       "  <tbody>\n",
       "    <tr>\n",
       "      <th>0</th>\n",
       "      <td>.@wesley83 I have a 3G iPhone. After 3 hrs tweeting at #RISE_Austin, it was dead!  I need to upgrade. Plugin stations at #SXSW.</td>\n",
       "      <td>iPhone</td>\n",
       "      <td>Negative emotion</td>\n",
       "    </tr>\n",
       "    <tr>\n",
       "      <th>1</th>\n",
       "      <td>@jessedee Know about @fludapp ? Awesome iPad/iPhone app that you'll likely appreciate for its design. Also, they're giving free Ts at #SXSW</td>\n",
       "      <td>iPad or iPhone App</td>\n",
       "      <td>Positive emotion</td>\n",
       "    </tr>\n",
       "    <tr>\n",
       "      <th>2</th>\n",
       "      <td>@swonderlin Can not wait for #iPad 2 also. They should sale them down at #SXSW.</td>\n",
       "      <td>iPad</td>\n",
       "      <td>Positive emotion</td>\n",
       "    </tr>\n",
       "    <tr>\n",
       "      <th>3</th>\n",
       "      <td>@sxsw I hope this year's festival isn't as crashy as this year's iPhone app. #sxsw</td>\n",
       "      <td>iPad or iPhone App</td>\n",
       "      <td>Negative emotion</td>\n",
       "    </tr>\n",
       "    <tr>\n",
       "      <th>4</th>\n",
       "      <td>@sxtxstate great stuff on Fri #SXSW: Marissa Mayer (Google), Tim O'Reilly (tech books/conferences) &amp;amp; Matt Mullenweg (Wordpress)</td>\n",
       "      <td>Google</td>\n",
       "      <td>Positive emotion</td>\n",
       "    </tr>\n",
       "  </tbody>\n",
       "</table>\n",
       "</div>"
      ],
      "text/plain": [
       "                                                                                                                                    tweet_text  \\\n",
       "0              .@wesley83 I have a 3G iPhone. After 3 hrs tweeting at #RISE_Austin, it was dead!  I need to upgrade. Plugin stations at #SXSW.   \n",
       "1  @jessedee Know about @fludapp ? Awesome iPad/iPhone app that you'll likely appreciate for its design. Also, they're giving free Ts at #SXSW   \n",
       "2                                                              @swonderlin Can not wait for #iPad 2 also. They should sale them down at #SXSW.   \n",
       "3                                                           @sxsw I hope this year's festival isn't as crashy as this year's iPhone app. #sxsw   \n",
       "4          @sxtxstate great stuff on Fri #SXSW: Marissa Mayer (Google), Tim O'Reilly (tech books/conferences) &amp; Matt Mullenweg (Wordpress)   \n",
       "\n",
       "  emotion_in_tweet_is_directed_at  \\\n",
       "0                          iPhone   \n",
       "1              iPad or iPhone App   \n",
       "2                            iPad   \n",
       "3              iPad or iPhone App   \n",
       "4                          Google   \n",
       "\n",
       "  is_there_an_emotion_directed_at_a_brand_or_product  \n",
       "0                                   Negative emotion  \n",
       "1                                   Positive emotion  \n",
       "2                                   Positive emotion  \n",
       "3                                   Negative emotion  \n",
       "4                                   Positive emotion  "
      ]
     },
     "execution_count": 755,
     "metadata": {},
     "output_type": "execute_result"
    }
   ],
   "source": [
    "df.head()"
   ]
  },
  {
   "cell_type": "code",
   "execution_count": 756,
   "id": "67bd51cd-58c0-4dbc-8aa7-9d27983d1917",
   "metadata": {},
   "outputs": [
    {
     "name": "stdout",
     "output_type": "stream",
     "text": [
      "<class 'pandas.core.frame.DataFrame'>\n",
      "RangeIndex: 9093 entries, 0 to 9092\n",
      "Data columns (total 3 columns):\n",
      " #   Column                                              Non-Null Count  Dtype \n",
      "---  ------                                              --------------  ----- \n",
      " 0   tweet_text                                          9092 non-null   object\n",
      " 1   emotion_in_tweet_is_directed_at                     3291 non-null   object\n",
      " 2   is_there_an_emotion_directed_at_a_brand_or_product  9093 non-null   object\n",
      "dtypes: object(3)\n",
      "memory usage: 213.2+ KB\n"
     ]
    }
   ],
   "source": [
    "df.info()"
   ]
  },
  {
   "cell_type": "code",
   "execution_count": 757,
   "id": "5d73aacc-afa1-4d2b-bac5-e835d5d7bd13",
   "metadata": {},
   "outputs": [
    {
     "data": {
      "text/plain": [
       "1"
      ]
     },
     "execution_count": 757,
     "metadata": {},
     "output_type": "execute_result"
    }
   ],
   "source": [
    "df['tweet_text'].isna().sum()"
   ]
  },
  {
   "cell_type": "code",
   "execution_count": 758,
   "id": "a2c30224-0993-4efc-9039-38ad57c75122",
   "metadata": {},
   "outputs": [
    {
     "data": {
      "text/plain": [
       "emotion_in_tweet_is_directed_at\n",
       "iPad                               946\n",
       "Apple                              661\n",
       "iPad or iPhone App                 470\n",
       "Google                             430\n",
       "iPhone                             297\n",
       "Other Google product or service    293\n",
       "Android App                         81\n",
       "Android                             78\n",
       "Other Apple product or service      35\n",
       "Name: count, dtype: int64"
      ]
     },
     "execution_count": 758,
     "metadata": {},
     "output_type": "execute_result"
    }
   ],
   "source": [
    "df['emotion_in_tweet_is_directed_at'].value_counts()"
   ]
  },
  {
   "cell_type": "code",
   "execution_count": 759,
   "id": "76c36f6d-8c58-4dfc-9129-38f2f13b604f",
   "metadata": {},
   "outputs": [
    {
     "data": {
      "text/plain": [
       "is_there_an_emotion_directed_at_a_brand_or_product\n",
       "No emotion toward brand or product    5389\n",
       "Positive emotion                      2978\n",
       "Negative emotion                       570\n",
       "I can't tell                           156\n",
       "Name: count, dtype: int64"
      ]
     },
     "execution_count": 759,
     "metadata": {},
     "output_type": "execute_result"
    }
   ],
   "source": [
    "df['is_there_an_emotion_directed_at_a_brand_or_product'].value_counts()"
   ]
  },
  {
   "cell_type": "markdown",
   "id": "43b0a5e9-2d9d-4a5b-a416-b022d01b05b9",
   "metadata": {},
   "source": [
    "# Renaming Columns"
   ]
  },
  {
   "cell_type": "code",
   "execution_count": 760,
   "id": "2db54ec4-27fa-41ef-bb47-c010f81cb4f4",
   "metadata": {},
   "outputs": [],
   "source": [
    "# Rename the column\n",
    "df.rename(columns={'is_there_an_emotion_directed_at_a_brand_or_product': 'Sentiment'}, inplace=True)\n",
    "df.rename(columns={'emotion_in_tweet_is_directed_at': 'Brand'}, inplace=True)\n",
    "df.rename(columns={'tweet_text': 'Tweets'}, inplace=True)"
   ]
  },
  {
   "cell_type": "code",
   "execution_count": 761,
   "id": "4e9dab71-dd66-46df-b0a2-cfe3cf66bfc8",
   "metadata": {},
   "outputs": [
    {
     "data": {
      "text/html": [
       "<div>\n",
       "<style scoped>\n",
       "    .dataframe tbody tr th:only-of-type {\n",
       "        vertical-align: middle;\n",
       "    }\n",
       "\n",
       "    .dataframe tbody tr th {\n",
       "        vertical-align: top;\n",
       "    }\n",
       "\n",
       "    .dataframe thead th {\n",
       "        text-align: right;\n",
       "    }\n",
       "</style>\n",
       "<table border=\"1\" class=\"dataframe\">\n",
       "  <thead>\n",
       "    <tr style=\"text-align: right;\">\n",
       "      <th></th>\n",
       "      <th>Tweets</th>\n",
       "      <th>Brand</th>\n",
       "      <th>Sentiment</th>\n",
       "    </tr>\n",
       "  </thead>\n",
       "  <tbody>\n",
       "    <tr>\n",
       "      <th>0</th>\n",
       "      <td>.@wesley83 I have a 3G iPhone. After 3 hrs tweeting at #RISE_Austin, it was dead!  I need to upgrade. Plugin stations at #SXSW.</td>\n",
       "      <td>iPhone</td>\n",
       "      <td>Negative emotion</td>\n",
       "    </tr>\n",
       "    <tr>\n",
       "      <th>1</th>\n",
       "      <td>@jessedee Know about @fludapp ? Awesome iPad/iPhone app that you'll likely appreciate for its design. Also, they're giving free Ts at #SXSW</td>\n",
       "      <td>iPad or iPhone App</td>\n",
       "      <td>Positive emotion</td>\n",
       "    </tr>\n",
       "    <tr>\n",
       "      <th>2</th>\n",
       "      <td>@swonderlin Can not wait for #iPad 2 also. They should sale them down at #SXSW.</td>\n",
       "      <td>iPad</td>\n",
       "      <td>Positive emotion</td>\n",
       "    </tr>\n",
       "    <tr>\n",
       "      <th>3</th>\n",
       "      <td>@sxsw I hope this year's festival isn't as crashy as this year's iPhone app. #sxsw</td>\n",
       "      <td>iPad or iPhone App</td>\n",
       "      <td>Negative emotion</td>\n",
       "    </tr>\n",
       "    <tr>\n",
       "      <th>4</th>\n",
       "      <td>@sxtxstate great stuff on Fri #SXSW: Marissa Mayer (Google), Tim O'Reilly (tech books/conferences) &amp;amp; Matt Mullenweg (Wordpress)</td>\n",
       "      <td>Google</td>\n",
       "      <td>Positive emotion</td>\n",
       "    </tr>\n",
       "  </tbody>\n",
       "</table>\n",
       "</div>"
      ],
      "text/plain": [
       "                                                                                                                                        Tweets  \\\n",
       "0              .@wesley83 I have a 3G iPhone. After 3 hrs tweeting at #RISE_Austin, it was dead!  I need to upgrade. Plugin stations at #SXSW.   \n",
       "1  @jessedee Know about @fludapp ? Awesome iPad/iPhone app that you'll likely appreciate for its design. Also, they're giving free Ts at #SXSW   \n",
       "2                                                              @swonderlin Can not wait for #iPad 2 also. They should sale them down at #SXSW.   \n",
       "3                                                           @sxsw I hope this year's festival isn't as crashy as this year's iPhone app. #sxsw   \n",
       "4          @sxtxstate great stuff on Fri #SXSW: Marissa Mayer (Google), Tim O'Reilly (tech books/conferences) &amp; Matt Mullenweg (Wordpress)   \n",
       "\n",
       "                Brand         Sentiment  \n",
       "0              iPhone  Negative emotion  \n",
       "1  iPad or iPhone App  Positive emotion  \n",
       "2                iPad  Positive emotion  \n",
       "3  iPad or iPhone App  Negative emotion  \n",
       "4              Google  Positive emotion  "
      ]
     },
     "execution_count": 761,
     "metadata": {},
     "output_type": "execute_result"
    }
   ],
   "source": [
    "df.head()"
   ]
  },
  {
   "cell_type": "code",
   "execution_count": 762,
   "id": "7fee6bb6-8698-4af2-af33-f94998a42255",
   "metadata": {},
   "outputs": [
    {
     "data": {
      "text/plain": [
       "Brand\n",
       "iPad                               946\n",
       "Apple                              661\n",
       "iPad or iPhone App                 470\n",
       "Google                             430\n",
       "iPhone                             297\n",
       "Other Google product or service    293\n",
       "Android App                         81\n",
       "Android                             78\n",
       "Other Apple product or service      35\n",
       "Name: count, dtype: int64"
      ]
     },
     "execution_count": 762,
     "metadata": {},
     "output_type": "execute_result"
    }
   ],
   "source": [
    "df['Brand'].value_counts()"
   ]
  },
  {
   "cell_type": "code",
   "execution_count": 763,
   "id": "26e35b0d-d60a-4457-964b-999937d5fec6",
   "metadata": {},
   "outputs": [
    {
     "name": "stdout",
     "output_type": "stream",
     "text": [
      "Brand\n",
      "Apple     2409\n",
      "Google     882\n",
      "Name: count, dtype: int64\n"
     ]
    }
   ],
   "source": [
    "# Define the mapping for replacement\n",
    "mapping = {\n",
    "    'iPad': 'Apple',\n",
    "    'Apple': 'Apple',\n",
    "    'iPad or iPhone App': 'Apple',\n",
    "    'iPhone': 'Apple',\n",
    "    'Other Apple product or service': 'Apple',\n",
    "    'Google': 'Google',\n",
    "    'Other Google product or service': 'Google',\n",
    "    'Android App': 'Google',\n",
    "    'Android': 'Google'\n",
    "}\n",
    "\n",
    "# Replace the values in the column\n",
    "df['Brand'] = df['Brand'].replace(mapping)\n",
    "\n",
    "# Check the updated value counts\n",
    "print(df['Brand'].value_counts())\n"
   ]
  },
  {
   "cell_type": "code",
   "execution_count": 764,
   "id": "2e29167d-f88e-4677-b40f-6b7202065cd1",
   "metadata": {},
   "outputs": [
    {
     "name": "stdout",
     "output_type": "stream",
     "text": [
      "<class 'pandas.core.frame.DataFrame'>\n",
      "RangeIndex: 9093 entries, 0 to 9092\n",
      "Data columns (total 3 columns):\n",
      " #   Column     Non-Null Count  Dtype \n",
      "---  ------     --------------  ----- \n",
      " 0   Tweets     9092 non-null   object\n",
      " 1   Brand      3291 non-null   object\n",
      " 2   Sentiment  9093 non-null   object\n",
      "dtypes: object(3)\n",
      "memory usage: 213.2+ KB\n"
     ]
    }
   ],
   "source": [
    "df.info()"
   ]
  },
  {
   "cell_type": "code",
   "execution_count": 765,
   "id": "2fb516d7-9866-4d87-aa08-6897bc91d978",
   "metadata": {},
   "outputs": [],
   "source": [
    "# Filter the DataFrame for 'Apple' sentiment\n",
    "Apple_df = df[(df['Brand'] == 'Apple')]"
   ]
  },
  {
   "cell_type": "code",
   "execution_count": 766,
   "id": "a1be06b2-8cd1-4a4d-941a-a44725a2f40d",
   "metadata": {},
   "outputs": [
    {
     "data": {
      "text/plain": [
       "Tweets       0\n",
       "Brand        0\n",
       "Sentiment    0\n",
       "dtype: int64"
      ]
     },
     "execution_count": 766,
     "metadata": {},
     "output_type": "execute_result"
    }
   ],
   "source": [
    "Apple_df.isna().sum()"
   ]
  },
  {
   "cell_type": "code",
   "execution_count": 767,
   "id": "8310d32d-ee5c-48cf-8493-7d6c81fe903e",
   "metadata": {},
   "outputs": [
    {
     "data": {
      "text/html": [
       "<div>\n",
       "<style scoped>\n",
       "    .dataframe tbody tr th:only-of-type {\n",
       "        vertical-align: middle;\n",
       "    }\n",
       "\n",
       "    .dataframe tbody tr th {\n",
       "        vertical-align: top;\n",
       "    }\n",
       "\n",
       "    .dataframe thead th {\n",
       "        text-align: right;\n",
       "    }\n",
       "</style>\n",
       "<table border=\"1\" class=\"dataframe\">\n",
       "  <thead>\n",
       "    <tr style=\"text-align: right;\">\n",
       "      <th></th>\n",
       "      <th>Tweets</th>\n",
       "      <th>Brand</th>\n",
       "      <th>Sentiment</th>\n",
       "    </tr>\n",
       "  </thead>\n",
       "  <tbody>\n",
       "    <tr>\n",
       "      <th>0</th>\n",
       "      <td>.@wesley83 I have a 3G iPhone. After 3 hrs tweeting at #RISE_Austin, it was dead!  I need to upgrade. Plugin stations at #SXSW.</td>\n",
       "      <td>Apple</td>\n",
       "      <td>Negative emotion</td>\n",
       "    </tr>\n",
       "    <tr>\n",
       "      <th>1</th>\n",
       "      <td>@jessedee Know about @fludapp ? Awesome iPad/iPhone app that you'll likely appreciate for its design. Also, they're giving free Ts at #SXSW</td>\n",
       "      <td>Apple</td>\n",
       "      <td>Positive emotion</td>\n",
       "    </tr>\n",
       "    <tr>\n",
       "      <th>2</th>\n",
       "      <td>@swonderlin Can not wait for #iPad 2 also. They should sale them down at #SXSW.</td>\n",
       "      <td>Apple</td>\n",
       "      <td>Positive emotion</td>\n",
       "    </tr>\n",
       "    <tr>\n",
       "      <th>3</th>\n",
       "      <td>@sxsw I hope this year's festival isn't as crashy as this year's iPhone app. #sxsw</td>\n",
       "      <td>Apple</td>\n",
       "      <td>Negative emotion</td>\n",
       "    </tr>\n",
       "    <tr>\n",
       "      <th>8</th>\n",
       "      <td>Beautifully smart and simple idea RT @madebymany @thenextweb wrote about our #hollergram iPad app for #sxsw! http://bit.ly/ieaVOB</td>\n",
       "      <td>Apple</td>\n",
       "      <td>Positive emotion</td>\n",
       "    </tr>\n",
       "  </tbody>\n",
       "</table>\n",
       "</div>"
      ],
      "text/plain": [
       "                                                                                                                                        Tweets  \\\n",
       "0              .@wesley83 I have a 3G iPhone. After 3 hrs tweeting at #RISE_Austin, it was dead!  I need to upgrade. Plugin stations at #SXSW.   \n",
       "1  @jessedee Know about @fludapp ? Awesome iPad/iPhone app that you'll likely appreciate for its design. Also, they're giving free Ts at #SXSW   \n",
       "2                                                              @swonderlin Can not wait for #iPad 2 also. They should sale them down at #SXSW.   \n",
       "3                                                           @sxsw I hope this year's festival isn't as crashy as this year's iPhone app. #sxsw   \n",
       "8            Beautifully smart and simple idea RT @madebymany @thenextweb wrote about our #hollergram iPad app for #sxsw! http://bit.ly/ieaVOB   \n",
       "\n",
       "   Brand         Sentiment  \n",
       "0  Apple  Negative emotion  \n",
       "1  Apple  Positive emotion  \n",
       "2  Apple  Positive emotion  \n",
       "3  Apple  Negative emotion  \n",
       "8  Apple  Positive emotion  "
      ]
     },
     "execution_count": 767,
     "metadata": {},
     "output_type": "execute_result"
    }
   ],
   "source": [
    "Apple_df.head()"
   ]
  },
  {
   "cell_type": "code",
   "execution_count": 768,
   "id": "18d55825-a255-42db-8e0d-37e209165dc2",
   "metadata": {},
   "outputs": [
    {
     "name": "stdout",
     "output_type": "stream",
     "text": [
      "<class 'pandas.core.frame.DataFrame'>\n",
      "Index: 2409 entries, 0 to 9088\n",
      "Data columns (total 3 columns):\n",
      " #   Column     Non-Null Count  Dtype \n",
      "---  ------     --------------  ----- \n",
      " 0   Tweets     2409 non-null   object\n",
      " 1   Brand      2409 non-null   object\n",
      " 2   Sentiment  2409 non-null   object\n",
      "dtypes: object(3)\n",
      "memory usage: 75.3+ KB\n"
     ]
    }
   ],
   "source": [
    "Apple_df.info()"
   ]
  },
  {
   "cell_type": "code",
   "execution_count": 769,
   "id": "9216c86e-559a-4edc-b31f-7237583319de",
   "metadata": {},
   "outputs": [
    {
     "data": {
      "text/plain": [
       "Sentiment\n",
       "Positive emotion                      1949\n",
       "Negative emotion                       388\n",
       "No emotion toward brand or product      65\n",
       "I can't tell                             7\n",
       "Name: count, dtype: int64"
      ]
     },
     "execution_count": 769,
     "metadata": {},
     "output_type": "execute_result"
    }
   ],
   "source": [
    "Apple_df['Sentiment'].value_counts()"
   ]
  },
  {
   "cell_type": "code",
   "execution_count": 770,
   "id": "52cc755f-644a-4a33-adaf-f37a2659f879",
   "metadata": {},
   "outputs": [
    {
     "data": {
      "text/html": [
       "<div>\n",
       "<style scoped>\n",
       "    .dataframe tbody tr th:only-of-type {\n",
       "        vertical-align: middle;\n",
       "    }\n",
       "\n",
       "    .dataframe tbody tr th {\n",
       "        vertical-align: top;\n",
       "    }\n",
       "\n",
       "    .dataframe thead th {\n",
       "        text-align: right;\n",
       "    }\n",
       "</style>\n",
       "<table border=\"1\" class=\"dataframe\">\n",
       "  <thead>\n",
       "    <tr style=\"text-align: right;\">\n",
       "      <th></th>\n",
       "      <th>Tweets</th>\n",
       "      <th>Brand</th>\n",
       "      <th>Sentiment</th>\n",
       "    </tr>\n",
       "  </thead>\n",
       "  <tbody>\n",
       "    <tr>\n",
       "      <th>63</th>\n",
       "      <td>#Smile RT @mention I think Apple's &amp;quot;pop-up store&amp;quot; in Austin would be a lot more interesting if it actually, you know... popped up #sxsw</td>\n",
       "      <td>Apple</td>\n",
       "      <td>No emotion toward brand or product</td>\n",
       "    </tr>\n",
       "    <tr>\n",
       "      <th>265</th>\n",
       "      <td>The #SXSW Apple &amp;quot;pop-up&amp;quot; store was nuts. Was still packed at 11:30. {link}</td>\n",
       "      <td>Apple</td>\n",
       "      <td>No emotion toward brand or product</td>\n",
       "    </tr>\n",
       "    <tr>\n",
       "      <th>317</th>\n",
       "      <td>I arrived at #sxsw and my @mention issue hasn't been resolved. Dying to use the iPhone app but cant login. RT@mention @mention we're on it</td>\n",
       "      <td>Apple</td>\n",
       "      <td>No emotion toward brand or product</td>\n",
       "    </tr>\n",
       "    <tr>\n",
       "      <th>601</th>\n",
       "      <td>msc_page: Guy gets tattoo at SXSW so he could win a free iPad2 {link} #sxsw #tattoo #ipadÛ_ {link} #allshare</td>\n",
       "      <td>Apple</td>\n",
       "      <td>No emotion toward brand or product</td>\n",
       "    </tr>\n",
       "    <tr>\n",
       "      <th>668</th>\n",
       "      <td>#sxsw guy in front of me at this panel has an ipad in an etch-a-sketch case...device of wondeR? #iusxsw</td>\n",
       "      <td>Apple</td>\n",
       "      <td>No emotion toward brand or product</td>\n",
       "    </tr>\n",
       "    <tr>\n",
       "      <th>...</th>\n",
       "      <td>...</td>\n",
       "      <td>...</td>\n",
       "      <td>...</td>\n",
       "    </tr>\n",
       "    <tr>\n",
       "      <th>8691</th>\n",
       "      <td>Apple popup store! #SXSW  @mention Apple Store, SXSW {link} #photo</td>\n",
       "      <td>Apple</td>\n",
       "      <td>No emotion toward brand or product</td>\n",
       "    </tr>\n",
       "    <tr>\n",
       "      <th>8722</th>\n",
       "      <td>my wife just tried to call my ATT iphone, only 2 have ATT say my number was not working. is #sxsw taking down all ATT networks nationwide?</td>\n",
       "      <td>Apple</td>\n",
       "      <td>No emotion toward brand or product</td>\n",
       "    </tr>\n",
       "    <tr>\n",
       "      <th>8849</th>\n",
       "      <td>We can't wait to give an iPad to someone at #sxsw. Want in? Just head to www.pep.jobs/upc to enter. (must be present to win)</td>\n",
       "      <td>Apple</td>\n",
       "      <td>No emotion toward brand or product</td>\n",
       "    </tr>\n",
       "    <tr>\n",
       "      <th>8902</th>\n",
       "      <td>@mention Which is to say iPad is going to be ubiquitous a lot faster than anyone expected a year or even 6 mo. ago. #newsapps #sxsw</td>\n",
       "      <td>Apple</td>\n",
       "      <td>No emotion toward brand or product</td>\n",
       "    </tr>\n",
       "    <tr>\n",
       "      <th>9051</th>\n",
       "      <td>@mention You can get an iPad 1 for under $350 now. And they'll be $99 before you know it. Look at iPhone. #newsapps #sxsw</td>\n",
       "      <td>Apple</td>\n",
       "      <td>No emotion toward brand or product</td>\n",
       "    </tr>\n",
       "  </tbody>\n",
       "</table>\n",
       "<p>65 rows × 3 columns</p>\n",
       "</div>"
      ],
      "text/plain": [
       "                                                                                                                                                 Tweets  \\\n",
       "63    #Smile RT @mention I think Apple's &quot;pop-up store&quot; in Austin would be a lot more interesting if it actually, you know... popped up #sxsw   \n",
       "265                                                                The #SXSW Apple &quot;pop-up&quot; store was nuts. Was still packed at 11:30. {link}   \n",
       "317          I arrived at #sxsw and my @mention issue hasn't been resolved. Dying to use the iPhone app but cant login. RT@mention @mention we're on it   \n",
       "601                                       msc_page: Guy gets tattoo at SXSW so he could win a free iPad2 {link} #sxsw #tattoo #ipadÛ_ {link} #allshare   \n",
       "668                                             #sxsw guy in front of me at this panel has an ipad in an etch-a-sketch case...device of wondeR? #iusxsw   \n",
       "...                                                                                                                                                 ...   \n",
       "8691                                                                                 Apple popup store! #SXSW  @mention Apple Store, SXSW {link} #photo   \n",
       "8722         my wife just tried to call my ATT iphone, only 2 have ATT say my number was not working. is #sxsw taking down all ATT networks nationwide?   \n",
       "8849                       We can't wait to give an iPad to someone at #sxsw. Want in? Just head to www.pep.jobs/upc to enter. (must be present to win)   \n",
       "8902                @mention Which is to say iPad is going to be ubiquitous a lot faster than anyone expected a year or even 6 mo. ago. #newsapps #sxsw   \n",
       "9051                          @mention You can get an iPad 1 for under $350 now. And they'll be $99 before you know it. Look at iPhone. #newsapps #sxsw   \n",
       "\n",
       "      Brand                           Sentiment  \n",
       "63    Apple  No emotion toward brand or product  \n",
       "265   Apple  No emotion toward brand or product  \n",
       "317   Apple  No emotion toward brand or product  \n",
       "601   Apple  No emotion toward brand or product  \n",
       "668   Apple  No emotion toward brand or product  \n",
       "...     ...                                 ...  \n",
       "8691  Apple  No emotion toward brand or product  \n",
       "8722  Apple  No emotion toward brand or product  \n",
       "8849  Apple  No emotion toward brand or product  \n",
       "8902  Apple  No emotion toward brand or product  \n",
       "9051  Apple  No emotion toward brand or product  \n",
       "\n",
       "[65 rows x 3 columns]"
      ]
     },
     "execution_count": 770,
     "metadata": {},
     "output_type": "execute_result"
    }
   ],
   "source": [
    "Apple_df[Apple_df['Sentiment'] == \"No emotion toward brand or product\"]\n"
   ]
  },
  {
   "cell_type": "code",
   "execution_count": 771,
   "id": "56f482bd-ac53-478a-b332-6fbfc7ede09c",
   "metadata": {},
   "outputs": [
    {
     "name": "stderr",
     "output_type": "stream",
     "text": [
      "/var/folders/vf/_ggtcvh11slbnt8cr1ghjwxw0000gn/T/ipykernel_66980/2438753912.py:1: SettingWithCopyWarning: \n",
      "A value is trying to be set on a copy of a slice from a DataFrame.\n",
      "Try using .loc[row_indexer,col_indexer] = value instead\n",
      "\n",
      "See the caveats in the documentation: https://pandas.pydata.org/pandas-docs/stable/user_guide/indexing.html#returning-a-view-versus-a-copy\n",
      "  Apple_df['Sentiment'] = Apple_df['Sentiment'].replace({\n"
     ]
    }
   ],
   "source": [
    "Apple_df['Sentiment'] = Apple_df['Sentiment'].replace({\n",
    "    'Negative emotion': 'Negative',\n",
    "    'No emotion toward brand or product': 'Neutral',\n",
    "    'Positive emotion': 'Positive'\n",
    "})\n",
    "Apple_df = Apple_df[Apple_df['Sentiment'] != \"I can't tell\"]\n",
    "Apple_df = Apple_df[Apple_df['Sentiment'] != 'Neutral']"
   ]
  },
  {
   "cell_type": "code",
   "execution_count": 772,
   "id": "6d77caab-fc25-476b-8bb9-4caa4a027f45",
   "metadata": {},
   "outputs": [
    {
     "data": {
      "text/plain": [
       "Sentiment\n",
       "Positive    1949\n",
       "Negative     388\n",
       "Name: count, dtype: int64"
      ]
     },
     "execution_count": 772,
     "metadata": {},
     "output_type": "execute_result"
    }
   ],
   "source": [
    "Apple_df['Sentiment'].value_counts()"
   ]
  },
  {
   "cell_type": "markdown",
   "id": "07d4cd47-4f23-434a-850f-1347d35a3f97",
   "metadata": {},
   "source": [
    "# Duplicates "
   ]
  },
  {
   "cell_type": "code",
   "execution_count": 773,
   "id": "4b8ed409-7f07-4bdf-8a1a-023352dc1fc4",
   "metadata": {},
   "outputs": [
    {
     "data": {
      "text/plain": [
       "5"
      ]
     },
     "execution_count": 773,
     "metadata": {},
     "output_type": "execute_result"
    }
   ],
   "source": [
    "len(Apple_df[Apple_df.duplicated()])"
   ]
  },
  {
   "cell_type": "code",
   "execution_count": 774,
   "id": "a292e0da-cd2f-40fd-86d4-8c72c3339f85",
   "metadata": {},
   "outputs": [
    {
     "data": {
      "text/html": [
       "<div>\n",
       "<style scoped>\n",
       "    .dataframe tbody tr th:only-of-type {\n",
       "        vertical-align: middle;\n",
       "    }\n",
       "\n",
       "    .dataframe tbody tr th {\n",
       "        vertical-align: top;\n",
       "    }\n",
       "\n",
       "    .dataframe thead th {\n",
       "        text-align: right;\n",
       "    }\n",
       "</style>\n",
       "<table border=\"1\" class=\"dataframe\">\n",
       "  <thead>\n",
       "    <tr style=\"text-align: right;\">\n",
       "      <th></th>\n",
       "      <th>Tweets</th>\n",
       "      <th>Brand</th>\n",
       "      <th>Sentiment</th>\n",
       "    </tr>\n",
       "  </thead>\n",
       "  <tbody>\n",
       "    <tr>\n",
       "      <th>468</th>\n",
       "      <td>Before It Even Begins, Apple Wins #SXSW {link}</td>\n",
       "      <td>Apple</td>\n",
       "      <td>Positive</td>\n",
       "    </tr>\n",
       "    <tr>\n",
       "      <th>2559</th>\n",
       "      <td>Counting down the days to #sxsw plus strong Canadian dollar means stock up on Apple gear</td>\n",
       "      <td>Apple</td>\n",
       "      <td>Positive</td>\n",
       "    </tr>\n",
       "    <tr>\n",
       "      <th>4897</th>\n",
       "      <td>Oh. My. God. The #SXSW app for iPad is pure, unadulterated awesome. It's easier to browse events on iPad than on the website!!!</td>\n",
       "      <td>Apple</td>\n",
       "      <td>Positive</td>\n",
       "    </tr>\n",
       "    <tr>\n",
       "      <th>8483</th>\n",
       "      <td>I just noticed DST is coming this weekend. How many iPhone users will be an hour late at SXSW come Sunday morning? #SXSW #iPhone</td>\n",
       "      <td>Apple</td>\n",
       "      <td>Negative</td>\n",
       "    </tr>\n",
       "    <tr>\n",
       "      <th>8747</th>\n",
       "      <td>Need to buy an iPad2 while I'm in Austin at #sxsw. Not sure if I'll need to Q up at an Austin Apple store?</td>\n",
       "      <td>Apple</td>\n",
       "      <td>Positive</td>\n",
       "    </tr>\n",
       "  </tbody>\n",
       "</table>\n",
       "</div>"
      ],
      "text/plain": [
       "                                                                                                                                Tweets  \\\n",
       "468                                                                                     Before It Even Begins, Apple Wins #SXSW {link}   \n",
       "2559                                          Counting down the days to #sxsw plus strong Canadian dollar means stock up on Apple gear   \n",
       "4897   Oh. My. God. The #SXSW app for iPad is pure, unadulterated awesome. It's easier to browse events on iPad than on the website!!!   \n",
       "8483  I just noticed DST is coming this weekend. How many iPhone users will be an hour late at SXSW come Sunday morning? #SXSW #iPhone   \n",
       "8747                        Need to buy an iPad2 while I'm in Austin at #sxsw. Not sure if I'll need to Q up at an Austin Apple store?   \n",
       "\n",
       "      Brand Sentiment  \n",
       "468   Apple  Positive  \n",
       "2559  Apple  Positive  \n",
       "4897  Apple  Positive  \n",
       "8483  Apple  Negative  \n",
       "8747  Apple  Positive  "
      ]
     },
     "execution_count": 774,
     "metadata": {},
     "output_type": "execute_result"
    }
   ],
   "source": [
    "Apple_df[Apple_df.duplicated()]"
   ]
  },
  {
   "cell_type": "code",
   "execution_count": 775,
   "id": "724f24a4-ddfd-4751-b787-d7c120228071",
   "metadata": {},
   "outputs": [
    {
     "name": "stdout",
     "output_type": "stream",
     "text": [
      "<class 'pandas.core.frame.DataFrame'>\n",
      "Index: 2332 entries, 0 to 9088\n",
      "Data columns (total 3 columns):\n",
      " #   Column     Non-Null Count  Dtype \n",
      "---  ------     --------------  ----- \n",
      " 0   Tweets     2332 non-null   object\n",
      " 1   Brand      2332 non-null   object\n",
      " 2   Sentiment  2332 non-null   object\n",
      "dtypes: object(3)\n",
      "memory usage: 72.9+ KB\n"
     ]
    }
   ],
   "source": [
    "Apple_df.drop_duplicates(keep='first', inplace=True)\n",
    "Apple_df.info()"
   ]
  },
  {
   "cell_type": "code",
   "execution_count": 776,
   "id": "3138ac1b-795f-4557-aef5-20e0842f7341",
   "metadata": {},
   "outputs": [
    {
     "data": {
      "text/plain": [
       "Sentiment\n",
       "Positive    1945\n",
       "Negative     387\n",
       "Name: count, dtype: int64"
      ]
     },
     "execution_count": 776,
     "metadata": {},
     "output_type": "execute_result"
    }
   ],
   "source": [
    "Apple_df['Sentiment'].value_counts()"
   ]
  },
  {
   "cell_type": "code",
   "execution_count": 777,
   "id": "48ec25a6-511a-4bbb-96e5-26c41889ec7f",
   "metadata": {},
   "outputs": [
    {
     "name": "stdout",
     "output_type": "stream",
     "text": [
      "8855          If there was a popup store in Austin that sold nothing but iPhone battery extenders, it would make so much money. #sxsw\n",
      "8930                               #iPad #news #apps not popular with the #kids. {link} #the_daily is a terrible concept anyway #sxsw\n",
      "8943                                              Hmmm...Taxi Magic on iPhone does not appear to be so magic any more in Austin #sxsw\n",
      "8981    I think my effing hubby is in line for an #iPad 2. Can someone point him towards the line-up for wife number #2. #sxswi #sxsw\n",
      "9008                 I'm pretty sure the panelist that thinks &quot;Apple is drowning in their success&quot; is fucking insane. #SXSW\n",
      "Name: Tweets, dtype: object\n"
     ]
    }
   ],
   "source": [
    "# Set pandas display options to show full text without truncation\n",
    "pd.set_option('display.max_colwidth', None)\n",
    "\n",
    "# Filter the DataFrame for tweets with \"Neutral\" sentiment and display the full text\n",
    "neutral_tweets = Apple_df[Apple_df['Sentiment'] == \"Negative\"]['Tweets'].tail()\n",
    "(40)\n",
    "print(neutral_tweets)\n"
   ]
  },
  {
   "cell_type": "markdown",
   "id": "53d61aa3-5053-40e4-a50d-4748f7b5864d",
   "metadata": {},
   "source": [
    "# Preprocessing "
   ]
  },
  {
   "cell_type": "code",
   "execution_count": 778,
   "id": "0f39191f-74ac-4ed1-b418-e83c09a88141",
   "metadata": {},
   "outputs": [
    {
     "data": {
      "text/plain": [
       "Sentiment\n",
       "Negative    387\n",
       "Name: count, dtype: int64"
      ]
     },
     "execution_count": 778,
     "metadata": {},
     "output_type": "execute_result"
    }
   ],
   "source": [
    "#parsing negative tweets into new df\n",
    "Apple_df_neg = Apple_df[Apple_df['Sentiment']=='Negative']\n",
    "#verifying that positive tweets have been removed\n",
    "Apple_df_neg['Sentiment'].value_counts()"
   ]
  },
  {
   "cell_type": "code",
   "execution_count": 779,
   "id": "53dc4bab-e202-4c66-88f5-bc89e67640ac",
   "metadata": {},
   "outputs": [
    {
     "data": {
      "text/plain": [
       "['.@wesley83 I have a 3G iPhone. After 3 hrs tweeting at #RISE_Austin, it was dead!  I need to upgrade. Plugin stations at #SXSW.',\n",
       " \"@sxsw I hope this year's festival isn't as crashy as this year's iPhone app. #sxsw\",\n",
       " 'I just noticed DST is coming this weekend. How many iPhone users will be an hour late at SXSW come Sunday morning? #SXSW #iPhone',\n",
       " 'attending @mention iPad design headaches #sxsw {link}',\n",
       " \"What !?!? @mention  #SXSW does not provide iPhone chargers?!?  I've changed my mind about going next year!\"]"
      ]
     },
     "execution_count": 779,
     "metadata": {},
     "output_type": "execute_result"
    }
   ],
   "source": [
    "#parsing tweets into a list\n",
    "corpus_neg = Apple_df_neg['Tweets'].to_list()\n",
    "corpus_neg[:5]"
   ]
  },
  {
   "cell_type": "code",
   "execution_count": 780,
   "id": "cf3e84ad-25f8-487a-8220-d57e64dfa8db",
   "metadata": {},
   "outputs": [],
   "source": [
    "from nltk import TweetTokenizer\n",
    "import string\n",
    "\n",
    "#functionize tokenization of tweets\n",
    "def tokenize_tweets(corpus, preserve_case=False, strip_handles=True):\n",
    "    \"\"\"Function returns tokens based on a corpus passed in. The corpus will be broken \n",
    "    down into tokens based on TweetTokenizer from the nltk package.\n",
    "    -------------------------------\n",
    "    Arguments:\n",
    "    corpus: the collection of words to be tokenized in a corpus format.\n",
    "    preserve_case: whether to keep the upper case letters in the words as upper case\n",
    "    stip_handles: whether to remove twitter handles\"\"\"\n",
    "    \n",
    "    tokenizer = TweetTokenizer(preserve_case=preserve_case, \n",
    "                               strip_handles=strip_handles)\n",
    "    tokens = tokenizer.tokenize(','.join(corpus))\n",
    "    return tokens"
   ]
  },
  {
   "cell_type": "code",
   "execution_count": 781,
   "id": "1aa473e4-9cea-4311-a0ee-18e0ff4de76c",
   "metadata": {},
   "outputs": [],
   "source": [
    "#tokenize positive tweets\n",
    "tokens_neg = tokenize_tweets(corpus_neg)"
   ]
  },
  {
   "cell_type": "code",
   "execution_count": 782,
   "id": "15cab647-0700-46b3-a44a-94ddd6d88d42",
   "metadata": {},
   "outputs": [
    {
     "data": {
      "text/plain": [
       "[(',', 516),\n",
       " ('.', 409),\n",
       " ('#sxsw', 386),\n",
       " ('the', 227),\n",
       " ('to', 173),\n",
       " ('ipad', 165),\n",
       " ('iphone', 133),\n",
       " ('is', 117),\n",
       " ('i', 116),\n",
       " ('\"', 115)]"
      ]
     },
     "execution_count": 782,
     "metadata": {},
     "output_type": "execute_result"
    }
   ],
   "source": [
    "#displaying 10 most common tokens\n",
    "from nltk import FreqDist\n",
    "freq = FreqDist(tokens_neg)\n",
    "freq.most_common(10)"
   ]
  },
  {
   "cell_type": "code",
   "execution_count": 783,
   "id": "535ed515-4cdb-4710-9841-b8abcfe4d210",
   "metadata": {},
   "outputs": [],
   "source": [
    "from nltk.stem.wordnet import WordNetLemmatizer\n",
    "# nltk.download('wordnet')\n",
    "\n",
    "#functionize lemmatization of tokens\n",
    "def lemmatize_tokens(tokens_list):\n",
    "    \"\"\"Function lemmatizes tokens list that is passed in by using \n",
    "    WordNetLemmatizer and returns lemmatized tokens.\n",
    "    -------------------------------\n",
    "    Arguments:\n",
    "    tokens_list: a tokens list\n",
    "    \"\"\"\n",
    "    lemmatizer = WordNetLemmatizer()\n",
    "    tokens_lem = [lemmatizer.lemmatize(word) for word in tokens_list]\n",
    "    return tokens_lem"
   ]
  },
  {
   "cell_type": "code",
   "execution_count": 784,
   "id": "e5b0462b-7f99-4c78-909b-2b4b09b38bf4",
   "metadata": {},
   "outputs": [],
   "source": [
    "#lemmatizing positive tweet tokens\n",
    "tokens_neg_lem = lemmatize_tokens(tokens_neg)"
   ]
  },
  {
   "cell_type": "code",
   "execution_count": 785,
   "id": "ffee6e53-1048-46fb-8540-78a449bd89aa",
   "metadata": {},
   "outputs": [
    {
     "data": {
      "text/plain": [
       "[(',', 516),\n",
       " ('.', 409),\n",
       " ('#sxsw', 386),\n",
       " ('the', 227),\n",
       " ('to', 173),\n",
       " ('ipad', 165),\n",
       " ('a', 139),\n",
       " ('iphone', 133),\n",
       " ('is', 117),\n",
       " ('i', 116)]"
      ]
     },
     "execution_count": 785,
     "metadata": {},
     "output_type": "execute_result"
    }
   ],
   "source": [
    "#displaying most common 10 tokens\n",
    "from nltk import FreqDist\n",
    "freq = FreqDist(tokens_neg_lem)\n",
    "freq.most_common(10)"
   ]
  },
  {
   "cell_type": "code",
   "execution_count": 786,
   "id": "cee52512-e76f-45ab-99b6-b361493091eb",
   "metadata": {},
   "outputs": [],
   "source": [
    "from nltk.corpus import stopwords\n",
    "import string\n",
    "\n",
    "# Get stopwords from NLTK\n",
    "stop_lst = stopwords.words('english')\n",
    "\n",
    "# Add punctuation marks to the stop list\n",
    "stop_lst += list(string.punctuation)\n",
    "\n",
    "# Add additional punctuation marks\n",
    "additional_punc = ['“', '”', '...', \"''\", '’', '``']\n",
    "stop_lst += additional_punc\n",
    "\n",
    "# Add additional terms to the stop list (converted to lowercase)\n",
    "additional_stop_terms = ['#sxsw', '#sxswi', 'sxsw', 'rt', 'link']\n",
    "stop_lst += additional_stop_terms\n"
   ]
  },
  {
   "cell_type": "code",
   "execution_count": 787,
   "id": "cf81d3a0-f1dc-4f63-8d01-67851e0891b1",
   "metadata": {},
   "outputs": [],
   "source": [
    "#functionizing removal of stop words\n",
    "def remove_stop(tokens, stop_list=stop_lst):\n",
    "    \n",
    "    \"\"\"Function removes stop words from a given tokens list based on a \n",
    "    stop word list.\n",
    "    -------------------------------\n",
    "    Arguments:\n",
    "    tokens: a tokens list\n",
    "    stop_list: a list containing stop words to be removed from tokens\"\"\"\n",
    "    \n",
    "    #encoding/decoding tokens to eliminate unrecognized symbols and \n",
    "    #eliminating external links\n",
    "    tokens_stopped = [word.encode('ascii','ignore').decode() \n",
    "                      for word in tokens \n",
    "                      if (word not in stop_list) & \n",
    "                      (word.startswith('http') == False)]\n",
    "    \n",
    "    return tokens_stopped"
   ]
  },
  {
   "cell_type": "code",
   "execution_count": 788,
   "id": "5a04b423-276a-4c0e-9f04-eb3644229065",
   "metadata": {},
   "outputs": [],
   "source": [
    "#removing stop words from lemmatized tokens\n",
    "tokens_neg_ls = remove_stop(tokens_neg_lem)"
   ]
  },
  {
   "cell_type": "code",
   "execution_count": 789,
   "id": "817cafff-34d2-4589-a441-f8a7fc313198",
   "metadata": {},
   "outputs": [
    {
     "data": {
      "text/plain": [
       "[('ipad', 165),\n",
       " ('iphone', 133),\n",
       " ('apple', 93),\n",
       " ('2', 72),\n",
       " ('app', 47),\n",
       " ('store', 43),\n",
       " ('', 40),\n",
       " ('like', 35),\n",
       " ('design', 25),\n",
       " ('people', 24),\n",
       " ('austin', 23),\n",
       " ('new', 22),\n",
       " ('ha', 21),\n",
       " ('apps', 20),\n",
       " ('need', 19),\n",
       " ('#ipad', 19),\n",
       " ('get', 18),\n",
       " ('one', 18),\n",
       " ('line', 17),\n",
       " ('think', 17)]"
      ]
     },
     "execution_count": 789,
     "metadata": {},
     "output_type": "execute_result"
    }
   ],
   "source": [
    "#displaying 10 most common tokens\n",
    "from nltk import FreqDist\n",
    "freq = FreqDist(tokens_neg_ls)\n",
    "freq.most_common(20)"
   ]
  },
  {
   "cell_type": "code",
   "execution_count": 750,
   "id": "88a19265-d9f7-4856-9354-c6c9ee43fa2d",
   "metadata": {},
   "outputs": [
    {
     "name": "stdout",
     "output_type": "stream",
     "text": [
      "['3g', 'iphone', '3', 'hr', 'tweeting', '#rise_austin', 'wa', 'dead', 'need', 'upgrade', 'plugin', 'station', 'hope', \"year's\", 'festival', 'crashy', \"year's\", 'iphone', 'app', 'noticed', 'dst', 'coming', 'weekend', 'many', 'iphone', 'user', 'hour', 'late', 'come', 'sunday', 'morning', '#iphone', 'attending', 'ipad', 'design', 'headache', 'doe', 'provide', 'iphone', 'charger', \"i've\", 'changed', 'mind', 'going', 'next', 'year', 'seriously', 'testing', 'mobile', 'apps', 'constant', 'ipad', 'crash', 'causing', 'lost', 'schedule', 'sync', 'wp7', 'ipad', '2', 'conflagration', 'doofusness', 'spent', '1,000+', 'come', 'already', 'used', 'ipad', '1', 'wait', 'couple', 'city', 'block', '#ipad2', \"i'm\", '2', 'ipad', '2', 'seen', 'wild', 'people', 'say', 'fast', 'still', 'pic', 'terrible', 'iphone', 'alarm', 'botch', 'timechange', 'many', \"#sxsw'ers\", 'freak', 'late', 'flight', 'missed', 'panel', 'behind', 'bloody', 'mary', 'meant', 'also', 'wish', '#dyac', 'stupid', 'iphone', 'found', 'app', 'kyping', \"iphone's\", 'geolocation', 'releasing', 'background', 'need', 'patch', '#batterykiller', 'course', 'apple', 'built', 'temp', 'store', 'austin', 'texas', 'understand', 'concept', 'corralling', 'cattle', '#pickmeupanipad2', '', '', 'apple', 'opening', 'temporary', 'store', 'downtown', 'austin', 'ipad', '2', 'launch', 'oh', 'yay', 'traffic', 'apple', 'store', 'mall', 'sunday', '10x', 'crowded', 'line', 'fake', 'need', 'fucking', 'dongle', 'genius', 'let', 'ipad', 'news', 'apps', 'last', 'year', 'overheard', 'interactive', 'arg', 'hate', 'iphone', 'want', 'blackberry', 'back', '#shocked', '', '', 'apple', 'come', 'cool', 'technology', \"one's\", 'ever', 'heard', 'go', 'conference', '', '', '', 'overheard', 'mdw', \"i'll\", 'second', 'halfway', 'iphone', 'battery', 'already', 'even', 'boarded', 'plane', '#amateurhour', 'bad', 'apple', 'show', 'late', 'q', 'process', 'poo-poos', 'idea', 'leaf', 'early', 'even', \"i'm\", 'creative', 'busy', '#gamestorming', 'trying', 'balance', 'power', 'power', 'need', 'iphone', 'v', 'ipad', '3g', 'ipad', 'suck', 'quick', 'might', 'go', 'airplane', 'mode', 'iphone', 'battery', \"can't\", 'keep', 'tweet', 'thanks', 'apple', '#precommerce', '', '', 'best', 'thing', \"i've\", 'heard', 'weekend', 'gave', 'ipad', '2', 'money', '#japan', 'relief', 'need', 'ipad', '2', 'ipad', '2', 'coming', 'guess', \"apple's\", 'pretty', 'desperate', 'give', 'attention', 'iphone', 'dead', 'find', 'secret', 'batphone', 'barry', 'diller', 'think', 'ipad', 'content', 'nut', 'japan', 'docomo', 'introduced', 'mobile', 'apps', 'six', 'year', 'apple', 'came', 'app', 'store', '#jpmobilesummit', 'jeez', 'guy', 'dunno', 'apple', 'pop-up', \"gold's\", 'gym', 'u', 'realize', 'un-jobs-aesthetic', '#apple', 'need', 'find', 'better', 'stream', 'follow', 'inane', 'ipad', '2', 'tweet', 'surely', 'southby', 'austin', 'getting', 'full', 'underway', 'tell', 'iphone', 'intermittent', 'brick', '#crowded', 'hey', 'bout', 'donating', 'spending', 'new', '#ipad', 'japan', 'really', 'need', 'thing', '3g', 'iphone', '3', 'hr', 'tweeting', '#rise_austin', 'wa', 'dead', 'need', 'upgrade', 'plugin', 'station', 'feeling', 'worst', 'place', 'try', 'get', 'ipad', '2', 'everyone', 'trying', 'get', 'one', '#techiesunite', 'thought', 'would', 'use', 'ipad', 'lot', 'even', 'touched', 'hmmzies', 'first', 'ipad', 'even', 'exist', 'last', 'year', 'already', 'feel', 'like', \"i'm\", 'pulling', 'antique', 'everytime', 'use', 'ipad', '#ipad2', 'shoot', 'ipad', 'display', 'search', 'result', ':(', 'go', 'question', 'later', '#osmpw', 'iphone', 'app', 'mocking', 'like', 'money', 'come', 'iphone', 'app', 'one', 'worst', \"i've\", 'use', 'long', 'time', 'disliking', 'iphone', 'twitter', 'auto', 'shortening', 'iphone', 'overheating', 'many', 'british', 'sounding', 'people', 'texas', 'iphone', 'wilting', 'stress', 'iphone', 'know', 'week', 'tough', 'already-dwindling', 'battery', 'help', 'jeebus', 'keep', 'correcting', 'curse', 'word', 'god', 'like', 'imac', 'macbook', 'iphone', 'blackberry', 'staring', 'enough', 'time', 'read', 'book', 'remember', 'ha', 'seems', 'like', '-->', '', '', 'news', 'sxswi', 'wa', \"apple's\", 'temporary', 'ipad', 'store', '#wth', '', '', '', 'day', '1', 'charger', 'kicked', 'bucket', 'heck', 'apple', 'store', \"that's\", 'within', 'walking', 'distance', 'iphone', 'ipad', 'feel', 'unequipped', 'compared', 'everyone', 'else', 'dang', 'nothing', 'teeming', 'sea', 'iphone', 'addict', 'busy', 'twittering', 'ever', 'engage', 'one', 'anoth', '', '_', 'cont', 'fan', 'new', 'trend', 'audience', 'sharing', 'opinion', 'via', 'holding', 'ipad', 'listen', '#annoying', 'tomlinson', 'tx', 'observer', 'say', 'apple', 'subscription', 'data', 'holding', 'biggest', 'impediment', 'success', '#newsapps', '#apple', 'open', 'pop-up', 'shop', '<---', 'cool', 'concept', 'spend', 'waiting', '#ipad2', 'packing', 'point', 'showing', 'iphone', 'fragmentation', 'left', 'pocket', 'guide', 'hotel', 'know', \"i'm\", 'going', 'cope', 'doe', 'say', 'usability', 'ipad', 'iphone', 'app', 'new', 'rule', 'ooing', 'ahing', 'new', 'ipad', 'get', 'big', 'deal', 'everybody', 'ha', 'one', ':-)', 'read', '#apple', 'selling', 'ipad', '2', 'release', 'day', 'good', 'lord', 'vortex', 'smugness', 'day', 'may', 'unbearable', '', '', '10', 'dangerous', 'iphone', 'apps', 'went', 'whole', 'day', 'w', 'laptop', 'used', 'ipad', '1', 'thing', 'missed', 'ftp', 'cloudapp', 'fast', 'typing', 'skype', '#ipad', 'think', 'would', 'app', 'blackberry', 'gave', 'iphone', 'finger', 'guess', \"i'll\", 'carry', 'around', 'ipad', 'lame', 'people', 'apple', 'store', 'smell', 'great', '#hereforwork', '#nottheipad2', 'thank', 'letting', 'test', 'drive', 'car', 'apple', 'store', 'let', 'hope', 'fix', 'phone', 'know', 'u', 'u', 'selling', 'weve', 'never', 'talked', 'hate', 'product', 'check', 'heyo', '4', 'iphone', 'apple', 'pop', 'store', 'line', 'ridic', 'def', 'could', 'use', 'ipad', 'today', 'tweeting', 'via', 'iphone', 'sorta', 'pretty', 'much', 'sux', '#apple', 'cocky', 'perhaps', 'separate', 'ipad', '2', 'store', 'would', 'good', 'idea', 'guess', 'need', 'extra', 'marketing', ';)', 'disgusted', \"iphone's\", 'battery', 'life', 'already', '11', '3:30', 'pm', 'blackberry', 'going', 'strong', '#apple', 'classiest', 'fascist', 'company', 'america', 'really', 'elegant', '#rji', 'lost', 'ipad', 'corrupted', 'iphone', 'crazy', 'hotel', 'good', 'time', 'au', 'austin-bergstrom', 'midday', 'iphone', 'mid-battery', 'outlet', 'blocked', 'immobile', 'booth', 'serf', 'purpose', 'taunt', '2011', 'novelty', 'ipad', 'news', 'apps', 'fade', 'fast', 'among', 'digital', 'delegate', 'via', 'xipad', 'shite', 'app', ':(', 'new', '#ubersocial', '#iphone', 'app', 'store', 'includes', 'uberguide', 'sponso', '', '_', 'cont', 'know', 'iphone', 'ha', 'started', 'lying', 'signal', 'strength', 'nexus', 't-mobile', '10x', 'useful', 'iphone', '4', 'many', 'ppl', 'iphone', 'hmm', \"can't\", 'get', 'twitter', 'search', 'update', 'hootsuite', 'tweetdeck', 'ipad', 'paper', 'phone', 'mean', 'ipad', 'likely', 'useless', 'well', '#fail', '#tapworthy', 'ipad', 'design', 'headache', 'avoiding', 'pitfall', 'new', 'design', 'challenge', 'disaster', 'iphone', 'died', 'middle', \"can't\", 'function', 'heading', 'apple', 'store', 'ipad', '1', 'march', '11', '2011', '4:59', 'pm', 'pst', '2011', 'novelty', '#ipad', 'news', 'apps', 'fade', 'fast', 'among', 'digital', 'delegate', 'via', '2011', 'novelty', 'ipad', 'news', 'apps', 'fade', 'fast', 'among', 'digital', 'delegate', 'even', '10am', 'austin', 'iphone', 'batt', '54', 'shit', '#notevenstartedyet', 'apple', 'selfish', 'brand', 'microsoft', 'ha', 'served', 'brand', 'well', 'fucking', 'mac', 'user', 'cwebb', 'ipad', 'grant', 'hill', 'ipad', 'design', 'headache', 'take', 'two', 'tablet', 'call', 'morning', '2', 'hour', 'wait', 'makeshift', 'apple', 'store', 'ipad', '2', '#fail', 'make', 'sense', 'limit', 'content', 'specific', 'platform', 'ipad', 'web', 'interview', 'w', 'guy', 'kawasaki', 'believe', 'god', 'explanation', 'continuous', 'survival', 'apple', 'year', 'lol', 'groupme', 'talk', 'apple', 'app', 'store', 'approval', 'woe', 'would', 'big', 'group', 'people', 'would', 'agree', '#whowillrise', 'apple', 'love', 'heard', 'quite', 'bit', 'grumbling', 'holding', 'back', 'feature', 'ipad', '1', 'people', 'would', 'buy', 'v2', '#virtualwallet', 'nfc', '#iphone5', 'bc', 'standardization', '#android', '#confusion', 'ipad', '2', 'rear-facing', 'camera', 'get', 'lonely', 'planet', 'release', 'free', 'austin', 'city', 'guide', 'iphone', 'app', 'like', 'enough', 'apps', 'cluttering', 'handset', 'way', 'deleting', 'app', 'stop', 'loading', 'iphone', 'draining', 'power', 'x', 'cancel', 'help', 'major', '#apple', 'io', 'update', 'day', 'genius', 'project', 'manager', 'came', 'brilliant', 'idea', '#nowhammies', 'apple', 'pop-up', 'store', 'wa', '5', 'block', 'long', '#betterthingstodo', 'come', '#apple', 'cant', 'spell-checking', 'without', 'auto-correct', 'must', 'nothing', '#grrr', 'arg', 'load', 'iphone', 'via', 'app', 'store', 'site', 'trying', 'feelin', 'touch', 'charge', '#iphone', 'every', '6hours', 'running', 'lowest', 'possible', 'screen', 'brightness', 'apple', 'fix', 'basic', 'nyt', 'wsj', 'ask', 'future', 'branded', 'native', 'news', 'apps', 'ipad', '#iphone', 'battery', 'last', 'long', 'usage', 'nothing', 'say', 'douche', 'cake', 'like', 'walking', 'around', 'ipad', 'like', 'iphone', 'really', 'amazing', 'see', 'many', 'people', 'putting', \"apple's\", 'note', 'app', 'ipad', 'really', 'amazing', 'see', 'many', 'people', 'putting', \"apple's\", 'note', 'app', 'ipad', 'best', 'thing', \"i've\", 'heard', 'gave', 'ipad', '2', 'money', '#japan', 'relief', 'need', 'ipad', '2', '#sxswgood', 'quotable', '-->', '', '', 'apple', 'elegant', 'fascist', 'company', 'america', '#flip-board', 'somebody', 'write', 'app', 'let', 'consistently', 'type', 'shit', 'goddamn', 'iphone', 'hey', 'jump', 'buy', 'ipad', 'makeshift', 'apple', 'store', 'launch', 'day', 'fuck', 'respect', 'much', '#wwsxsw', '#enchantment', 'one', 'us', 'window', 'voluntarily', 'apple', 'greatest', 'collection', 'egomaniac', 'history', 'haha', '#enchantment', 'sell', 'dream', 'steve', 'job', 'say', 'iphone', '188', 'part', 'made', 'ppl', 'suicidal', 'chinese', 'launched', 'pop-up', 'apple', 'store', 'vintage', 'store', 'format', 'mostly', 'ipod', 'snarky', 'employee', 'ah', 'good', 'old', 'day', 'stupid', 'technology', 'always', 'fail', 'important', 'time', 'w', 'iphone', 'laptop', 'blackberry', 'thing', 'working', 'pen', 'official', 'people', 'using', 'ipad', '2', 'take', 'photo', 'look', 'weird', 'pretty', 'excited', 'iphone', 'stop', 'working', '#at', 'true', 'expect', 'insidious', 'approach', 'like', 'apple', 'subscription', 'disgraceful', '#libraries', 'composed', 'tweet', 'acerbic', 'cynical', 'ipad', 'user', 'phone', 'crashed', 'dumped', 'apps', '#twitterpower', '#imthatgood', 'major', 'ipad', 'design', 'flaw', 'go', 'ipad', 'app', 'stay', 'open', 'switch', 'apps', '#ipaddesignheadaches', 'probably', 'put', 'away', 'android', 'party', 'kinda', 'embarrassed', 'iphone', 'annoyed', 'schedule', 'app', 'ha', 'bad', '#ui', 'ipad', 'finger', \"ain't\", 'fat', \"y'all\", 'forbidden', 'apple', 'ha', 'spoiled', 'long', 'live', '#samsung', 'rocking', \"#sxswi's\", 'world', 'bit', 'disappointed', 'two', 'ipad', 'talk', 'many', 'overlapping', 'example', 'fest', \"tip-don't\", 'iphone', 'douche.put', 'away', 'phone', 'talk', 'fellow', 'festgoers', 'line', 'etc.all', 'good', 'people', 'love', 'film', 'android', 'party', 'kinda', 'embarrassed', 'iphone', 'anybody', 'get', 'mobile', 'apps', 'work', \"i've\", 'downloaded', 'android', 'iphone', 'blackberry', 'get', 'stuck', 'downloading', 'startup', 'srsly', 'love', 'promo', 'srsly', 'hate', 'excludes', 'esp', 'since', 'ipad', 'insists', \"i'm\", 'disney', 'new', 'iphone', 'autocorrect', 'already', 'tried', 'change', 'coworkers', 'visigoth', 'going', 'long', 'five', 'day', 'iphone', 'battery', 'wa', 'made', 'apple', 'hope', 'notice', 'ipad', '2', '#technology', '#mobile', '#prodmktg', 'leaning', 'web', 'convention', 'like', 'small', 'button', 'ipad', '#uxdes', 'lol', '2', 'true', 'official', 'people', 'using', 'ipad', '2', 'take', 'photo', 'look', 'weird', 'live', 'stream', 'working', 'ipad', '#fail', 'hmm', 'sxsw.com/interactive/live', 'stream', 'ipad', 'mobile', 'compatible', 'maybe', 'next', 'year', 'would', 'like', 'know', 'lb', 'app', 'downloaded', 'ha', 'commandeered', \"iphone's\", 'geolocation', 'setting', 'relinquish', '#batterykiller', 'getting', 'ready', 'ipad', 'design', 'headache', 'never', 'realized', 'shitty', 'iphone', 'battery', 'wa', \"i'm\", 'charging', 'every', 'hour', 'several', 'year', 'late', 'think', 'trend', 'social', 'apps', '#google', '#circles', '#conversation', 'heck', 'would', 'anyone', 'want', 'mozilla', 'switch', 'crapkit', 'webkit', 'gecko', 'good', 'stupid', 'apple', 'google', 'bandwaggoners', 'apple', 'cited', 'opposite', 'crowdsourcing', 'proprietary', 'steve', 'job', 'tell', 'want', '#csuitecsourcing', 'walked', 'line', 'ipad', '2', 'bahahahaha', 'least', '5', 'block', 'long', '#fail', 'walked', 'past', 'supposed', '#apple', 'temp', 'store', 'downstairs', 'apple', 'cult', 'wa', 'outside', 'taking', 'photo', 'iphones', 'like', 'vega', '#ces', 'iphone', 'best', 'used', 'hand', 'warmer', 'note', 'self', 'downside', 'tweeting', 'white', 'ipad', '2', 'expect', 'mocked', 'friend', 'think', 'abandoned', 'reality', 'mean', 'communication', 'iphone', 'stopped', 'working', '#fail', 'happened', 'taxi', 'magic', 'iphone', 'app', 'call', 'cab', 'via', 'oh', 'utter', 'fail', \"can't\", 'see', 'letter', 'ballroom', 'iphone', 'app', 'long', 'wrap', 'cc', 'never', 'apparent', 'nice', 'would', 'apple', 'made', 'stuff', 'w', 'removable', 'battery', '#alwayshavingtoplugin', '#gsdm', 'iphone', 'user', 'gps', 'stuck', 'one', 'new', 'geo', 'app', 'update', 'foursquare', 'gowalla', 'apple', 'take', 'bruise', 'panelist', 'well', 'regarded', 'sustainability', 'space', 'corporate', 'sustainability', 'reporting', 'transparency', 'apple', 'like', 'pay', \"that's\", 'apple', 'like', 'barry', 'diller', 'ipad', 'design', 'headache', 'take', 'two', 'tablet', 'call', 'panel', 'excited', 'hear', 'live', 'exposing', \"iphone's\", 'horrendous', 'battery', 'life', 'novelty', '#ipad', 'news', '#apps', 'fade', 'fast', 'among', 'digital', 'delegate', 'aron', 'pilhofer', 'nyt', 'khoi', 'vinh', '#media', 'outside', '9:30', 'panel', '75', 'people', 'skip', 'barely', 'get', 'anything', 'work', 'iphone', 'need', 'shrink', '10k', 'people', 'novelty', 'ipad', 'news', 'apps', 'fade', 'fast', 'among', 'delegate', 'pollak', 'much', 'trouble', 'sell', 'apple', 'duh', '#sxswbigbrands', 'turning', 'twitter', '#ipad', 'forgotten', 'kicking', 'w', 'talking', 'ipad', 'design', 'headache', 'wifi', 'working', 'laptop', 'neither', '3g', 'iphone', 'grrr', 'life', \"can't\", 'get', 'ipad', 'sync', 'session', 'partial', 'iphone', 'fine', 'ipad', 'deciding', 'want', 'cab', 'ride', 'hell', 'get', 'apple', 'store', 'mall', 'sold', 'getting', 'dinner', 'figure', 'get', 'back', 'hotel', 'navigating', 'crowded', 'party', 'suck', 'way', 'worse', 'everyone', 'walk', 'around', 'face', 'iphone', '#adpeopleproblems', '#mullenweg', 'admits', 'iphone', 'app', 'wordpress', 'good', 'yet', 'true', 'respect', 'honesty', 'awareness', 'best', 'thing', \"i've\", 'heard', 'weekend', 'gave', 'ipad', '2', 'money', '#japan', 'relief', 'need', '#ipad', '2', 'glad', \"i've\", 'got', 'faulty', 'iphone', 'go', 'well', \"everyone's\", 'battery', 'dy', '5', 'time', 'quicker', 'hope', 'know', 'ipad', 'design', 'headache', 'interface', 'metaphor', 'look', 'like', 'book', 'make', 'behave', 'like', 'book', 'simple', 'stuff', 'often', 'forgotten', 'ipad', 'design', 'malady', 'ipad', 'elbow', 'hate', \"ipad's\", 'back', 'button', 'heat', 'million', 'sun', '#tapworthy', 'go', \"i'm\", 'still', 'using', 'iphone', '3g', '#oldschool', '#novideo', '#veryslow', 'good', 'job', 'went', 'home', 'watched', 'season', '1', 'guild', '=D', 'suck', 'tweet', 'abt', 'iphone', 'hijack', 'top', 'tweet', 'lol', 'math', 'flight', 'leaf', '6:45', 'clock', 'go', 'ahead', '2', 'iphone', 'alarm', 'go', 'time', 'miss', 'flight', 'ha', 'feel', 'like', 'person', 'non-mac', 'ipad', 'ipad', '2', 'hand', 'thanks', 'popup', 'apple', 'store', 'first', 'impression', 'may', 'lemon', 'backlight', 'ha', 'bleed', 'thru', 'bottom', 'kara', 'swisher', 'apple', 'stylish', 'fascist', 'company', 'america', 'well', 'cashmore', 'gave', 'new', 'ipad', 'crushing', 'non-endorsement', '#checkins', '#ouch', 'rip', 'iphone', '4', 'june', '2010', 'survived', 'severe', 'drop', 'could', 'evade', 'drowning', 'tomorrow', 'go', 'back', 'apple', 'store', 'sigh', 'hate', 'typing', 'ipad', 'yeah', 'ken', 'calhoun', 'man', 'real', 'deal', 'bringing', 'laptop', 'sun', 'hope', \"year's\", 'festival', 'crashy', \"year's\", 'iphone', 'app', 'meant', 'itunes', 'work', 'ie', 'run', 'apple', 'software', 'even', 'would', 'run', 'ubuntu', 'desktop', 'dl', 'outdid', 'time', 'tech', '#fail', 'iphone', 'broken', 'might', 'worst', 'thing', 'ever', 'happen', \"i'm\", 'glad', 'ipad', '2', 'think', 'totalitarian', 'thought', 'action', 'people', 'worldwide', 'come', 'austin', 'tx', 'decide', 'spend', 'time', 'line', 'apple', 'store', 'ridiculous', 'see', 'someone', 'taking', 'photo', 'session', 'ipad', 'cannot', 'wait', 'see', 'concert', 'use', '#silly', \"i'd\", 'stay', 'away', 'apple', 'store', 'tomorrow', 'related', 'u', 'verizon', 'u', 'better', 'bandwidth', 'issue', 'blackberry', 'always', 'tweeted', 'iphone', 'dawdled', '#wjchat', '#ipad', 'design', 'ui', 'tip', '', 'buttons', 'hack', 'approach', 'skepticism', '', '', '#tapworthy', 'farmer', 'like', 'blackberry', 'smart', 'phone', \"iphone's\", 'last', 'long', 'farm', '#mobilefarm', 'tablet', 'like', 'ipad', 'xoom', 'touch', 'emulates', 'mouse-click', 'keyboard', 'input', 'mean', \"we're\", 'yet', '#gswsxsw', '#futureoftouch', 'techie', 'fail', 'one', 'panel', 'moderator', 'europe', 'say', 'spent', '3000', 'roaming', 'charge', 'iphone', '2010', 'content', 'move', 'back', 'browser', 'replicate', 'work', 'ipad', 'u', 'press', 'one', 'button', 'mad', 'mad', 'line', 'still', 'apple', 'pop', 'store', 'austin', '#ipad2', \"i'm\", 'thinking', 'may', 'actually', 'take', 'laptop', 'ipad', 'alone', 'may', 'enough', 'trip', 'instagram', 'iphone', 'moment', 'mister', 'ha', 'cool', 'different', 'get', 'evo', 'suck', 'hey', 'twitter', 'need', 'way', 'u', 'disaster', 'area', 'filter', 'thing', 'like', '#ipad', 'right', 'really', 'care', 'guy', 'ipad', '2', 'taking', 'photo', 'slide', 'awkward', 'ipad', 'app', 'getting', 'panned', 'design', 'trumping', 'content', 'rightfully', 'fuck', 'iphone', 'new', '#ubersocial', '#iphone', 'app', 'store', 'includes', 'uberguide', 'talk', 'mistake', 'made', 'building', 'netflix', 'iphone', '#netflixiphone', 'row', 'morning', 'two', 'people', 'hand', 'writing', 'note', 'one', 'person', 'blackberry', '#pc', 'proof', 'apple', 'monopoly', 'many', 'publisher', 'ipad', 'content', 'enhancement', 'like', 'th', 'worst', 'david', 'foster', 'wallace', 'footnote', 'kinda', 'interesting', 'mostly', 'irrelevant', 'iphone', 'crisis', 'phone', 'stuck', 'silver', 'logo', 'screen', 'ha', 'last', '15', 'minute', 'help', 'pull', 'website', 'iphone', 'awesome', 'glad', 'wasted', 'time', '#festivalgenius', '#notsomuch', 'netflix', 'iphone', 'app', 'wa', 'built', 'ridiculous', 'deadline', 'big', 'mistake', \"tech's\", 'part', 'agree', 'first', 'talk', 'day', 'ipad', 'design', 'headache', 'josh', 'clark', 'hate', \"ipad's\", 'back', 'button', 'heat', 'million', 'sun', '#tapworthy', 'prize', 'apple', 'product', 'sigh', 'cant', 'handle', 'traffic', 'dear', 'app', 'iphone', 'ha', 'sucked', 'day', '#crashing', 'double', 'buzzing', 'issue', 'iphone', 'io', '4.3', 'getting', 'annoying', 'news', 'iphone', 'may', 'fly', 'across', 'room', '#gr2l2', 'apple', 'elegant', 'fascist', 'company', 'america', '#flipboard', 'apple', 'like', 'pay', \"that's\", 'apple', 'like', 'barry', 'diller', 'acc', 'ballroom', 'pic', ']:', 'apple', 'store', 'run', 'day', ':(', 'boo', 'apple', 'apple', 'elegant', 'fascist', 'corporation', 'america', 'today', 'kara', 'swisher', '#flipboard', 'learn', 'design', 'headache', 'ipad', 'barry', 'diller', 'say', 'ipad-only', 'magazine', 'like', 'daily', 'make', 'sense', 'barry', 'diller', 'say', 'silly', 'write', 'content', 'one', 'form', 'factor', 'apple', 'like', 'get', 'money', 'barry', \"diller's\", 'pragmatic', 'straight', 'forward', 'nice', 'look', 'like', 'want', 'u', 'grab', 'pitchfork', 'v', 'apple', 'go', \"let's\", 'rate', 'review', 'session', 'although', 'experience', 'iphone', 'bit', 'torturous', 'look', 'people', 'ipad', '1', 'shame', 'love', \"y'all\", 'come', \"i'm\", 'getting', 'login', 'authorization', 'error', 'almost', 'every', 'time', 'open', 'app', 'iphone', 'might', 'need', 'go', 'apple', 'today', 'think', 'x', 'w', 'key', 'worn', 'got', 'mine', 'disagree', 'peter', 'cashmore', 'ipad', '2', 'minor', 'improvement', 'worth', 'unless', '2', 'burn', '#twitter', 'iphone', 'app', 'ha', 'day', 'heading', 'want', 'tweet', 'lot', 'help', 'iphone', 'crashed', 'fresh', 'restore', 'lost', 'fave', 'dali', 'canvas', 'pak', 'ever', 'get', 'back', 'also', 'please', 'hear', 'people', 'talk', 'ipad', '2', 'preferrably', 'hashtags', 'really', 'deficit', 'life', 'sitting', 'floor', 'behind', 'guy', \"who's\", 'fondling', 'new', 'ipad', '2', 'disturbing', 'way', 'line', 'around', 'corner', '#ipad2', 'say', 'wait', \"i've\", 'already', 'got', 'two', 'camera', '#iphone', 'sorry', '#apple', 'bereft', 'wanderer', 'white', 'cord', 'limp', 'lifeless', 'outlet', 'iphone', '#poetry', 'man', 'panhandling', 'ipad', '2', '', 's', 'world', 'coming', '#ipad', '#apple', '#tablet', 'iphone', 'app', 'would', 'b', 'pretty', 'awesome', 'crash', 'every', '10mins', 'extended', 'browsing', '#fuckit', '#illmakeitwork', 'iphone', 'app', 'awesome', 'ipad', 'app', 'crash', 'every', 'time', 'asked', 'one', 'booth', 'people', '#apple', 'paid', 'every', 'single', 'booth', 'show', 'product', 'ipad', '2', 'said', '#idontbelieve', 'internet', 'blur', 'ipad', 'fade', '', '', 'tweeting', 'pretty', 'non', 'existent', 'today', 'thanks', 'iphone', 'app', '#fail', 'hootsuite', 'epic', 'replacement', '#owllove', 'wa', 'going', 'mock', 'tech-nerds', 'coming', 'stand', '4', 'hour', 'line', 'ipad', '2', 'remembered', 'horror', 'movie', 'starting', 'think', '#blackberry', 'like', '#abacus', 'phone', 'damn', 'u', '#iphone', 'wanted', 'abacus', '..', 'buy', 'ipad', '2', \"i'd\", 'wait', 'ipad', '3', 'teleporting', 'capability', 'technology', 'happen', 'iphone', 'nokia', '#pushsnowboarding', 'nothing', 'sillier', 'watching', 'people', 'record', 'video', 'ipad', 'agreed', '', '', 'novelty', '#ipad', 'news', '#apps', 'fade', 'fast', 'among', 'digital', 'delegate', '', '', '#media', 'via', \"consumerist's\", 'worst', 'company', 'america', '2011', 'tournament', 'bracket', 'apple', 'pitted', 'microsoft', 'first', 'round', 'fully', 'anticipate', 'every', 'geek-douche', 'toting', 'ipad', '2', 'people', 'also', 'worth', 'going', 'inventing', 'dislike', 'button', '#ipad', '2', 'line', 'grrrr', 'muting', 'thought', 'web', 'iphone', ':(', 'organic', 'unveils', 'broadfeed', 'social', 'news', 'app', 'ipad', 'audience', 'get', 'head', 'door', 'decided', 'go', 'la', 'instead', 'iphone', 'would', 'useful', 'brick', 'austin', 'iphone', 'old', 'schedule', 'app', 'oh', '#rejection', \"there's\", 'way', 'call', 'ipad', 'count', 'reasonable', 'think', \"there's\", 'one', 'every', '2', 'people', 'apple', 'autocorrect', 'weird', 'ogilvy', 'autocorrects', 'idiocy', '#ogilvynotes', ':)', 'cashmere', 'mashable', 'think', 'ipad', '2', 'huge', 'step', 'waiting', 'apple', 'pr', 'team', 'parachute', 'session', 'aron', 'pilhofer', 'new', 'york', 'time', 'design', 'guru', 'khoi', 'vinh', 'express', 'scepticism', 'ipad', 'news', 'apps', 'technology', 'happen', 'iphone', 'nokia', '#pushsnowboarding', 'mt', 'swisher', 'call', 'apple', 'classiest', 'fascist', 'company', 'america', '#sxflip', 'ipad', 'app', 'getting', 'panned', 'design', 'trumping', 'content', 'rightfully', 'peter', 'cashmore', 'ipad', '2', 'minor', 'improvement', 'worth', 'unless', 'money', 'burn', '#apple', 'classiest', 'fascist', 'company', 'america', 'really', 'elegant', '#rji', 'apple', 'elegant', 'fascist', 'company', 'america', '#flipboard', 'apple', 'elegant', 'fascist', 'corporation', 'america', 'today', 'kara', 'swisher', '#flipboard', 'believe', 'god', 'explanation', \"apple's\", 'continued', 'existence', 'guy', 'kawasaki', '#enchantment', 'multiple', 'approach', 'monetization', 'iphone', 'game', 'dev', 'ad', 'would', 'cheapen', 'product', 'ok', 'good', 'luck', '#csr', 'reporting', 'janecek', 'microsoft', 'give', 'charity', 'apple', 'give', 'nothing', 'everyone', 'room', 'ha', 'iphone', 'drive', 'decision', '#enchantment', 'one', 'us', 'window', 'voluntarily', 'apple', 'greatest', 'collection', 'egomaniac', 'history', 'haha', 'ipad', 'store', 'sold', 'everything', 'except', '64gig', 'wifi', 'white', 'rumor', 'mill', 'ipad', '3', '6', '15', 'camera', 'slightly', 'thinner', 'rare', 'earth', 'case', 'different', 'still', 'smudgy', 'screen', 'ipad', 'design', 'headache', 'take', 'two', 'tablet', 'call', 'morning', '#uxdes', 'glad', 'standard', '#ipad', 'navigation', 'tool', 'might', 'one', 'agreed', '', '', 'novelty', '#ipad', 'news', '#apps', 'fade', 'fast', 'among', 'digital', 'delegate', '', '', '#media', 'via', 'anyone', 'wa', 'going', 'buy', 'new', 'ipad', 'donate', '#japan', '#tsunami', 'victim', 'instead', 'apple', 'autocorrect', 'weird', 'ogilvy', 'autocorrects', 'idiocy', '#ogilvynotes', ':)', 'apple', 'classiest', 'fascist', 'company', 'america', 'say', 'apple', 'classiest', 'fascist', 'company', 'america', 'kara', 'swisher', 'best', 'thing', \"i've\", 'heard', 'weekend', 'gave', 'ipad', '2', 'money', '#japan', 'relief', 'need', 'ipad', '2', 'best', 'thing', \"i've\", 'heard', 'weekend', 'gave', 'ipad', '2', 'money', '#japan', 'relief', 'need', 'ipad', '2', 'best', 'thing', \"i've\", 'heard', 'weekend', 'gave', 'ipad', '2', 'money', '#japan', 'relief', 'need', 'ipad', '2', 'decided', 'go', 'la', 'instead', 'iphone', 'would', 'useful', 'brick', 'austin', 'deleting', 'iphone', 'app', 'epic', \"there's\", 'one', 'guy', 'waiting', 'line', 'ipad', '2', 'austin', '#ipad', '#ipad2', 'fest', \"tip-don't\", 'iphone', 'douche.put', 'away', 'phone', 'talk', 'fellow', 'festgoers', 'line', 'etc.all', 'good', 'people', 'love', 'film', 'finally', 'fed', '#angrybirds', 'julian', 'screamed', 'got', 'no-fly', 'zone', 'right', 'pigfucker', 'threw', 'ipad', 'kid', 'forward', 'delicious', 't-mobile', '4g', 'austin', 'iphone', 'user', 'struggle', 'anything', 'found', 'app', 'kyping', \"iphone's\", 'geolocation', 'releasing', 'background', 'need', 'patch', '#batterykiller', 'hipster', 'w', 'oversized', 'earphone', 'pluged', 'new', 'ipad', 'make', 'happy', 'texas', 'ha', 'loose', 'gun', 'law', 'hmm', 'sxsw.com/interactive/live', 'stream', 'ipad', 'mobile', 'compatible', 'maybe', 'next', 'year', 'feel', 'like', 'iphone', 'always', 'always', 'something', 'running', 'battery', 'fast', 'yet', 'walk', 'conference', 'room', 'look', 'like', 'apple', 'ad', 'think', 'wa', 'nothing', 'else', 'know', 'iphone', 'ha', 'started', 'lying', 'signal', 'strength', 'think', 'effing', 'hubby', 'line', '#ipad', '2', 'someone', 'point', 'towards', 'line-up', 'wife', 'number', '2', 'ipad', 'upgrade', 'newest', 'io', 'yet', 'tweetdeck', 'unstable', '#nten', '#11ntc', 'ipad', 'design', 'headache', 'josh', 'clark', '#tapworthy', 'ipad', 'design', 'malady', 'ipad', 'elbow', 'hate', \"ipad's\", 'back', 'button', 'heat', 'million', 'sun', '#tapworthy', 'ridiculous', 'see', 'someone', 'taking', 'photo', 'session', 'ipad', 'cannot', 'wait', 'see', 'concert', 'use', '#silly', 'official', 'people', 'using', 'ipad', '2', 'take', 'photo', 'look', 'weird', 'josh', 'clark', 'hate', \"ipad's\", 'back', 'button', 'heat', 'million', 'sun', '#tapworthy', 'read', '#apple', 'selling', 'ipad', '2', 'release', 'day', 'good', 'lord', 'vortex', 'smugness', 'day', 'may', 'unbearable', 'saw', 'someone', 'take', 'picture', 'ipad', '2', 'first', 'time', 'look', 'ridiculous', 'expect', '#sightings', 'line', 'source', 'code', 'even', 'longer', 'ipad', '2', 'take', 'apple', 'lonely', 'planet', 'release', 'free', 'austin', 'city', 'guide', 'iphone', 'app', 'like', 'enough', 'apps', 'cluttering', 'handset', 'new', 'rule', 'ooing', 'ahing', 'new', 'ipad', 'get', 'big', 'deal', 'everybody', 'ha', 'one', ':-)', 'new', 'iphone', 'autocorrect', 'already', 'tried', 'change', 'coworkers', 'visigoth', 'going', 'long', 'five', 'day', 'fan', 'new', 'trend', 'audience', 'sharing', 'opinion', 'via', 'holding', 'ipad', 'listen', '#annoying', 'note', 'self', 'downside', 'tweeting', 'white', 'ipad', '2', 'expect', 'mocked', 'nothing', 'say', 'douche', 'cake', 'like', 'walking', 'around', 'ipad', 'like', 'iphone', 'novelty', 'ipad', 'news', 'apps', 'fade', 'fast', 'among', 'delegate', 'apple', 'classiest', 'fascist', 'company', 'america', 'say', 'forward', 'delicious', 't-mobile', '4g', 'austin', 'iphone', 'user', 'struggle', 'anything', 'sound', 'voice', 'wa', 'shot', 'exploiting', 'apple', 'best', \"buy's\", '14', 'day', 'return', 'policy', 'imacs', 'brilliant', 'slide', 'talk', 'ipad', 'design', 'headache', '#tapworthy', 'really', 'interesting', 'designer', 'well', 'speaks', 'truth', 'watched', '#apple', 'staff', 'temp', 'store', 'high', 'five', 'entire', 'long', 'line', 'facepalmed', 'ugh', '#longlinesbadux', '2011', 'novelty', 'ipad', 'news', 'apps', 'fade', 'fast', 'among', 'digital', 'delegate', 'temp', 'apple', 'store', '6th', 'st', 'austin', 'closed', 'night', \"they're\", 'stuff', 'say', 'austin', 'cop', 'barring', 'door', 'temporary', 'apple', 'store', 'apple', 'sneaky', 'usual', 'ipad', '2', 'also', 'cartoonishly', 'large', 'digital', 'camera', '#cstejas', 'group', 'next', 'ha', '6', 'ppl', 'table', 'everyone', 'using', 'thier', 'phone', 'ipad', 'instead', 'taking', 'yes', 'hate', 'fanboys', 'still', 'valid', 'tho', 'waited', 'ipad', '2', 'instead', 'enjoying', 'iphone', 'app', 'control', 'mania', 'half', 'screen', 'used', 'button', 'filter', 'half', 'content', '#ui-fail', 'fuck', 'iphone', 'crapped', 'charge', 'say', 'charging', '5', 'night', 'option', 'austin', 'look', 'stupid', 'take', 'pix', 'ipad', '2', 'believe', 'guy', 'apple', 'opening', 'temporary', 'store', 'austin', 'people', 'obviously', 'want', 'shell', '1500', 'macbook', 'visiting', 'austin', 'apple', 'opening', 'temporary', 'store', 'austin', 'people', 'obviously', 'want', 'shell', '1500', 'macbook', 'nyt', 'app', 'ipad', \"here's\", 'amazing', 'way', 'serve', 'readership', \"here's\", 'market', 'opportunity', \"can't\", 'ignore', '#newsapps', 'looking', 'forward', 'delicious', 't-mobile', '4g', 'austin', 'iphone', 'user', 'struggle', 'anything', 'reason', \"apple's\", 'continued', 'survival', 'existence', 'god', '#enchantment', 'twitter', 'failed', 'last', 'time', 'force', 'choke', 'iphone', 'phone', 'staying', 'charged', 'crappy', '#iphone', 'would', 'never', 'handle', 'sleep', 'crazyfest', 'part', 'journalsim', 'support', 'democracy', 'yes', 'informed', 'populous', 'yes', 'ipad', 'focus', 'doe', 'support', '#newsapps', 'put', 'ipad', 'idiot', '#smcomedyfyeah', 'stopped', 'pop', 'apple', 'store', 'lame', 'z', 'come', 'apple', 'still', 'cut', 'weight', 'half', 'peter', 'cashmore', 'ipad', '2', 'minor', 'improvement', 'worth', 'unless', 'money', 'burn', 'pop-up', 'apple', 'store', 'seems', 'pop-up', 'ipad', '2', 'clearly', 'apple', 'ha', 'another', 'daylight', 'saving', 'time', 'bug', 'iphone', '4', 'alarm', 'also', 'need', 'remember', 'fix', \"room's\", 'clock', 'whoop', 'apple', 'pop-up', 'shop', 'suck', 'ughhh', 'apple', 'store', 'austin', 'domain', 'rain', '3g', 'ipads', 'first', '25', 'minute', 'right', 'got', '#ipad2', 'lb', 'apps', 'iphone', 'think', 'orlando', ':)', 'guess', '2', 'check', 'disney', 'v', ':)', 'attended', 'preso', 'living', 'simply', '#100tc', 'felt', 'bit', 'guilty', 'taking', 'note', 'new', '#ipad', 'apple', 'classiest', 'fascist', 'company', 'america', 'kara', 'swisher', 'twitter', 'broken', 'ipad', \"can't\", 'follow', 'hash', 'right', 'wow', 'might', 'nerdiest', 'tweet', 'yet', '#tmsxsw', 'okay', 'fair', 'enough', 'lining', 'new', 'tech', 'cost', 'much', 'better', 'new', 'ipad', 'headed', 'ipad', 'design', 'headache', '2', 'tablet', 'call', 'morning', 'design', 'ipad', 'like', 'design', '101', 'class', 'someone', 'give', 'talk', 'assume', 'ditch', 'previous', 'experience', '#csr', 'reporting', 'janecek', 'microsoft', 'give', 'charity', 'apple', 'give', 'nothing', 'everyone', 'room', 'ha', 'iphone', 'drive', 'decision', 'hear', 'ipad', '2', 'nutter', 'ipading', 'away', 'even', 'life', 'techno', 'hipster', 'mecca', 'frustrating', 'zeldman', 'autocorrects', 'zelda', 'iphone', '#jzsxsw', 'explanation', \"apple's\", 'continued', 'survival', 'existence', 'god', '#guykawasaki', 'really', 'disappointed', 'ipad', 'app', 'lot', 'error', 'message', 'switch', 'tweet', 'deck', 'rest', 'farmer', 'prefer', 'balckberries', 'iphones', 'andriod', 'device', 'durable', 'anti-apple', 'feeling', '#mobilefarm', 'horrible', 'repressed', 'memory', 'apple', 'spinning', 'beach', 'ball', 'coming', 'back', '#progressbar', 'talk', 'respectfully', 'disagree', 'iphone', 'battery', 'life', 'problem', 'ubiquitous', 'seems', '#project314', 'tried', '2', 'day', 'ipad', 'w', 'macbook', 'pro', 'experiment', 'heart', 'real', 'keyboard', 'ipad', '2', 'turned', 'giant', 'camera', 'look', 'plain', 'stupid', '#groupme', 'available', 'canada', 'iphone', 'user', 'would', 'love', 'check', 'droid', 'ha', 'spontaniety', 'life', 'replaced', 'technology', 'iphone', 'battery', 'dy', 'go', 'home', 'great', 'survive', '1.6', 'gig', 'space', 'left', 'iphone', 'shall', 'see', 'guess', 'everyone', 'wanted', 'design', 'ipad', 'apps', 'mom', 'steve', 'job', 'position', 'iphone', 'device', 'made', 'china', 'suicide', 'rate', 'high', 'sell', 'dream', '#kawasaki', '#thisisdare', 'friend', 'iphone', 'changed', 'back', 'hour', 'instead', 'forward', 'hint', 'fix', '#iphone', '#help', 'iphone', 'gps', 'messed', 'think', \"i'm\", 'yonkers', 'almost', 'good', 'anyone', 'else', 'iphone', 'getting', 'could', 'activate', 'cellular', 'data', 'network', 'error', 'message', 'warning', 'thing', 'come', 'get', 'ipad', '1', 'ipad', '2', '3g', '64gb', 'cover', '100', 'macbook', 'air', '', 'the', 'classiest', 'fascist', 'company', 'existence', '', '', '', 'kara', 'swisher', '#apple', 'saw', 'someone', 'take', 'picture', 'ipad', '2', 'first', 'time', 'look', 'ridiculous', 'expect', '#sightings', 'every', 'person', 'see', 'ipad', 'look', 'crazy', 'look', 'like', '80', 'cell', 'phone', 'hand', 'dissapointment', 'new', '#ubersocial', '#iphone', 'app', 'store', 'includes', 'uberguide', 'sponsored', 'cont', '', '_', 'mistake', 'made', 'building', 'iphone', 'plus', 'see', 'source', 'code', 'mistake', 'made', 'building', 'netflix', 'iphone', 'plus', 'see', 'source', 'code', 'via', 'opened', 'yesterday', 'line', 'long', 'wait', 'look', 'apple', 'store', 'yet', '#ipad', 'pop-up', 'store', 'wa', 'flawless', 'apple', 'ipad', '2', 'launch', 'poor', 'planning', 'apple', '', 's', 'part', 'biggest', 'frustration', 'far', 'one', 'look', \"they're\", 'going', 'glued', 'iphone', 'get', 'badge', 'find', 'food', 'drink', 'figure', 'iphone', 'roaming', 'unpack', 'priority', 'proof', 'ipad', '2', 'turn', 'douchebag', 'looking', 'line', 'pop', 'apple', 'store', \"can't\", 'think', 'single', 'object', 'want', 'much', 'yet', 'walk', 'conference', 'room', 'look', 'like', 'apple', 'ad', 'think', 'wa', 'nothing', 'else', 'tried', 'installing', 'iphone', 'crash', 'every', 'time', 'open', 'watched', 'ipad', 'design', 'headache', 'button', 'hack', '#tapworthy', 'hate', 'ipad', 'fleet', 'nerd', 'armed', 'ipads', 'navigating', 'crowd', 'far', 'cool', \"i've\", 'ever', 'seen', '#twitter', 'iphone', 'anyway', 'remove', 'burn', 'hashtags', 'eg', 'v', 'v', 'bored', 'already', 'already', 'deleting', 'iphone', 'app', 'apple', '#popupstore', 'like', 'crack', 'house', 'mac', 'addict', 'apple', 'classiest', 'facist', 'company', 'america', 'kara', 'swisher', 'iphone', 'battery', 'going', 'quickly', 'guy', 'behind', 'let', 'borrow', 'portable', 'charger', 'want', 'one', 'wow', 'suck', 'ipad', 'rebecca', 'black', '#fab5', \"we're\", 'ungrateful', 'bc', 'much', 'shit', 'play', 'turn', 'shit', 'iphone', 'ipad', 'upgrade', 'newest', 'io', 'yet', 'tweetdeck', 'unstable', '#nten', '#11ntc', 'wait', '4-5', 'week', 'ipad', '2', '#appleatxdt', 'pop-up', 'shipment', 'daily', 'via', 'protip', 'avoid', 'austin-area', 'apple', 'store', 'friday', 'dear', 'goer', 'please', 'look', 'fucking', 'iphone', 'walking', 'hall', 'thanks', 'hipster', 'hilarious', 'grateful', 'bicycle', 'back-up', 'twitter', 'app', 'cursing', 'losing', 'hour', 'zzzs', 'iphone', 'battery', 'life', 'dear', 'iphone', 'app', 'suck', 'year', 'sitby.us', 'great', 'include', 'film', 'session', 'wa', 'popup', 'store', 'austin', 'sold', 'nothing', 'iphone', 'battery', 'extenders', 'would', 'make', 'much', 'money', '#ipad', '#news', '#apps', 'popular', '#kids', '#the_daily', 'terrible', 'concept', 'anyway', 'hmmm', 'taxi', 'magic', 'iphone', 'doe', 'appear', 'magic', 'austin', 'think', 'effing', 'hubby', 'line', '#ipad', '2', 'someone', 'point', 'towards', 'line-up', 'wife', 'number', '2', \"i'm\", 'pretty', 'sure', 'panelist', 'think', 'apple', 'drowning', 'success', 'fucking', 'insane']\n"
     ]
    }
   ],
   "source": [
    "#tokenize tweets\n",
    "Apple_tokens_neg = tokenize_tweets(corpus_neg)\n",
    "#lemmatize tweets\n",
    "Apple_tokens_neg_lem = lemmatize_tokens(Apple_tokens_neg)\n",
    "#remove stop words & punctuation using the same stop words list\n",
    "tokens_neg_ls = remove_stop(Apple_tokens_neg_lem, stop_list = stop_lst)\n",
    "print(tokens_neg_ls)"
   ]
  },
  {
   "cell_type": "code",
   "execution_count": 790,
   "id": "e11ce708-d625-4d16-805b-a2eeb5762caa",
   "metadata": {},
   "outputs": [
    {
     "ename": "AttributeError",
     "evalue": "'list' object has no attribute 'reset_index'",
     "output_type": "error",
     "traceback": [
      "\u001b[0;31m---------------------------------------------------------------------------\u001b[0m",
      "\u001b[0;31mAttributeError\u001b[0m                            Traceback (most recent call last)",
      "Cell \u001b[0;32mIn[790], line 1\u001b[0m\n\u001b[0;32m----> 1\u001b[0m Apple_df_neg[\u001b[38;5;124m'\u001b[39m\u001b[38;5;124mClean\u001b[39m\u001b[38;5;124m'\u001b[39m] \u001b[38;5;241m=\u001b[39m pd\u001b[38;5;241m.\u001b[39mDataFrame(\u001b[43mtokens_neg_ls\u001b[49m\u001b[38;5;241;43m.\u001b[39;49m\u001b[43mreset_index\u001b[49m())\n",
      "\u001b[0;31mAttributeError\u001b[0m: 'list' object has no attribute 'reset_index'"
     ]
    }
   ],
   "source": [
    "Apple_df_neg['Clean'] = pd.DataFrame(tokens_neg_ls.reset_index())"
   ]
  },
  {
   "cell_type": "code",
   "execution_count": 752,
   "id": "2adaef0a-144a-4da9-8130-08aa58f4c663",
   "metadata": {},
   "outputs": [
    {
     "data": {
      "text/html": [
       "<div>\n",
       "<style scoped>\n",
       "    .dataframe tbody tr th:only-of-type {\n",
       "        vertical-align: middle;\n",
       "    }\n",
       "\n",
       "    .dataframe tbody tr th {\n",
       "        vertical-align: top;\n",
       "    }\n",
       "\n",
       "    .dataframe thead th {\n",
       "        text-align: right;\n",
       "    }\n",
       "</style>\n",
       "<table border=\"1\" class=\"dataframe\">\n",
       "  <thead>\n",
       "    <tr style=\"text-align: right;\">\n",
       "      <th></th>\n",
       "      <th>Tweets</th>\n",
       "      <th>Brand</th>\n",
       "      <th>Sentiment</th>\n",
       "      <th>Clean</th>\n",
       "    </tr>\n",
       "  </thead>\n",
       "  <tbody>\n",
       "    <tr>\n",
       "      <th>0</th>\n",
       "      <td>.@wesley83 I have a 3G iPhone. After 3 hrs tweeting at #RISE_Austin, it was dead!  I need to upgrade. Plugin stations at #SXSW.</td>\n",
       "      <td>Apple</td>\n",
       "      <td>Negative</td>\n",
       "      <td>3g</td>\n",
       "    </tr>\n",
       "    <tr>\n",
       "      <th>3</th>\n",
       "      <td>@sxsw I hope this year's festival isn't as crashy as this year's iPhone app. #sxsw</td>\n",
       "      <td>Apple</td>\n",
       "      <td>Negative</td>\n",
       "      <td>hr</td>\n",
       "    </tr>\n",
       "    <tr>\n",
       "      <th>17</th>\n",
       "      <td>I just noticed DST is coming this weekend. How many iPhone users will be an hour late at SXSW come Sunday morning? #SXSW #iPhone</td>\n",
       "      <td>Apple</td>\n",
       "      <td>Negative</td>\n",
       "      <td>iphone</td>\n",
       "    </tr>\n",
       "    <tr>\n",
       "      <th>67</th>\n",
       "      <td>attending @mention iPad design headaches #sxsw {link}</td>\n",
       "      <td>Apple</td>\n",
       "      <td>Negative</td>\n",
       "      <td>ipad</td>\n",
       "    </tr>\n",
       "    <tr>\n",
       "      <th>92</th>\n",
       "      <td>What !?!? @mention  #SXSW does not provide iPhone chargers?!?  I've changed my mind about going next year!</td>\n",
       "      <td>Apple</td>\n",
       "      <td>Negative</td>\n",
       "      <td>freak</td>\n",
       "    </tr>\n",
       "  </tbody>\n",
       "</table>\n",
       "</div>"
      ],
      "text/plain": [
       "                                                                                                                              Tweets  \\\n",
       "0    .@wesley83 I have a 3G iPhone. After 3 hrs tweeting at #RISE_Austin, it was dead!  I need to upgrade. Plugin stations at #SXSW.   \n",
       "3                                                 @sxsw I hope this year's festival isn't as crashy as this year's iPhone app. #sxsw   \n",
       "17  I just noticed DST is coming this weekend. How many iPhone users will be an hour late at SXSW come Sunday morning? #SXSW #iPhone   \n",
       "67                                                                             attending @mention iPad design headaches #sxsw {link}   \n",
       "92                        What !?!? @mention  #SXSW does not provide iPhone chargers?!?  I've changed my mind about going next year!   \n",
       "\n",
       "    Brand Sentiment   Clean  \n",
       "0   Apple  Negative      3g  \n",
       "3   Apple  Negative      hr  \n",
       "17  Apple  Negative  iphone  \n",
       "67  Apple  Negative    ipad  \n",
       "92  Apple  Negative   freak  "
      ]
     },
     "execution_count": 752,
     "metadata": {},
     "output_type": "execute_result"
    }
   ],
   "source": [
    "Apple_df_neg.head()"
   ]
  },
  {
   "cell_type": "code",
   "execution_count": null,
   "id": "dd598fbe-a209-4cbe-b9bf-362742ab0933",
   "metadata": {},
   "outputs": [],
   "source": []
  },
  {
   "cell_type": "code",
   "execution_count": null,
   "id": "017106fa-42d6-42b9-9d68-d321ec211c44",
   "metadata": {},
   "outputs": [],
   "source": []
  },
  {
   "cell_type": "code",
   "execution_count": null,
   "id": "e05cb654-7516-4e18-ada5-4abfb1b307ea",
   "metadata": {},
   "outputs": [],
   "source": []
  },
  {
   "cell_type": "code",
   "execution_count": 44,
   "id": "246bf876-17b4-482f-b940-5f0221386748",
   "metadata": {},
   "outputs": [
    {
     "name": "stdout",
     "output_type": "stream",
     "text": [
      "Stemmed: swonderlin wait ipad 2 also\n"
     ]
    },
    {
     "data": {
      "text/html": [
       "<div>\n",
       "<style scoped>\n",
       "    .dataframe tbody tr th:only-of-type {\n",
       "        vertical-align: middle;\n",
       "    }\n",
       "\n",
       "    .dataframe tbody tr th {\n",
       "        vertical-align: top;\n",
       "    }\n",
       "\n",
       "    .dataframe thead th {\n",
       "        text-align: right;\n",
       "    }\n",
       "</style>\n",
       "<table border=\"1\" class=\"dataframe\">\n",
       "  <thead>\n",
       "    <tr style=\"text-align: right;\">\n",
       "      <th></th>\n",
       "      <th>Tweets</th>\n",
       "      <th>Brand</th>\n",
       "      <th>Sentiment</th>\n",
       "      <th>Cleaned_Tweets</th>\n",
       "    </tr>\n",
       "  </thead>\n",
       "  <tbody>\n",
       "    <tr>\n",
       "      <th>0</th>\n",
       "      <td>.@wesley83 I have a 3G iPhone. After 3 hrs tweeting at #RISE_Austin, it was dead!  I need to upgrade. Plugin stations at #SXSW.</td>\n",
       "      <td>Apple</td>\n",
       "      <td>Negative</td>\n",
       "      <td>wesley83 3g iphon 3 hr tweet rise_austin dead need upgrad plugin station sxsw</td>\n",
       "    </tr>\n",
       "    <tr>\n",
       "      <th>1</th>\n",
       "      <td>@jessedee Know about @fludapp ? Awesome iPad/iPhone app that you'll likely appreciate for its design. Also, they're giving free Ts at #SXSW</td>\n",
       "      <td>Apple</td>\n",
       "      <td>Positive</td>\n",
       "      <td>jessede know fludapp awesom ipad iphon app like appreci design also give free ts sxsw</td>\n",
       "    </tr>\n",
       "    <tr>\n",
       "      <th>2</th>\n",
       "      <td>@swonderlin Can not wait for #iPad 2 also. They should sale them down at #SXSW.</td>\n",
       "      <td>Apple</td>\n",
       "      <td>Positive</td>\n",
       "      <td>swonderlin wait ipad 2 also sale sxsw</td>\n",
       "    </tr>\n",
       "    <tr>\n",
       "      <th>3</th>\n",
       "      <td>@sxsw I hope this year's festival isn't as crashy as this year's iPhone app. #sxsw</td>\n",
       "      <td>Apple</td>\n",
       "      <td>Negative</td>\n",
       "      <td>sxsw hope year festiv crashi year iphon app sxsw</td>\n",
       "    </tr>\n",
       "    <tr>\n",
       "      <th>8</th>\n",
       "      <td>Beautifully smart and simple idea RT @madebymany @thenextweb wrote about our #hollergram iPad app for #sxsw! http://bit.ly/ieaVOB</td>\n",
       "      <td>Apple</td>\n",
       "      <td>Positive</td>\n",
       "      <td>beauti smart simpl idea rt madebymani thenextweb wrote hollergram ipad app sxsw http bit ly ieavob</td>\n",
       "    </tr>\n",
       "  </tbody>\n",
       "</table>\n",
       "</div>"
      ],
      "text/plain": [
       "                                                                                                                                        Tweets  \\\n",
       "0              .@wesley83 I have a 3G iPhone. After 3 hrs tweeting at #RISE_Austin, it was dead!  I need to upgrade. Plugin stations at #SXSW.   \n",
       "1  @jessedee Know about @fludapp ? Awesome iPad/iPhone app that you'll likely appreciate for its design. Also, they're giving free Ts at #SXSW   \n",
       "2                                                              @swonderlin Can not wait for #iPad 2 also. They should sale them down at #SXSW.   \n",
       "3                                                           @sxsw I hope this year's festival isn't as crashy as this year's iPhone app. #sxsw   \n",
       "8            Beautifully smart and simple idea RT @madebymany @thenextweb wrote about our #hollergram iPad app for #sxsw! http://bit.ly/ieaVOB   \n",
       "\n",
       "   Brand Sentiment  \\\n",
       "0  Apple  Negative   \n",
       "1  Apple  Positive   \n",
       "2  Apple  Positive   \n",
       "3  Apple  Negative   \n",
       "8  Apple  Positive   \n",
       "\n",
       "                                                                                       Cleaned_Tweets  \n",
       "0                       wesley83 3g iphon 3 hr tweet rise_austin dead need upgrad plugin station sxsw  \n",
       "1               jessede know fludapp awesom ipad iphon app like appreci design also give free ts sxsw  \n",
       "2                                                               swonderlin wait ipad 2 also sale sxsw  \n",
       "3                                                    sxsw hope year festiv crashi year iphon app sxsw  \n",
       "8  beauti smart simpl idea rt madebymani thenextweb wrote hollergram ipad app sxsw http bit ly ieavob  "
      ]
     },
     "execution_count": 44,
     "metadata": {},
     "output_type": "execute_result"
    }
   ],
   "source": [
    "from nltk.tokenize import RegexpTokenizer\n",
    "from nltk.corpus import stopwords\n",
    "from nltk.stem import PorterStemmer\n",
    "\n",
    "# Define the tokenizer\n",
    "tokenizer = RegexpTokenizer(r'\\w+')\n",
    "\n",
    "# Create a list of stopwords in English\n",
    "stopwords_list = set(stopwords.words('english'))\n",
    "\n",
    "# Create an instance of nltk's PorterStemmer\n",
    "stemmer = PorterStemmer()\n",
    "\n",
    "def preprocess_text(text):\n",
    "    # Standardize case (lowercase the text)\n",
    "    text = text.lower()\n",
    "    # Tokenize text using regex tokenizer\n",
    "    tokens = tokenizer.tokenize(text)\n",
    "    # Remove stopwords\n",
    "    tokens = [token for token in tokens if token not in stopwords_list]\n",
    "    # Apply stemming\n",
    "    tokens = [stemmer.stem(token) for token in tokens]\n",
    "    # Return the preprocessed text\n",
    "    return ' '.join(tokens)\n",
    "\n",
    "# Test the function with stemming\n",
    "stemmed_text = preprocess_text(\"@swonderlin Can not wait for #iPad 2 also. The\")\n",
    "print(\"Stemmed:\", stemmed_text)\n",
    "\n",
    "# Apply preprocess_text function to Apple_df['Tweets']\n",
    "Apple_df['Cleaned_Tweets'] = Apple_df['Tweets'].apply(preprocess_text)\n",
    "\n",
    "# Display the first few rows of the DataFrame to verify the changes\n",
    "Apple_df.head()\n"
   ]
  },
  {
   "cell_type": "code",
   "execution_count": 45,
   "id": "161bdf8f-2d53-4178-a353-729db5171846",
   "metadata": {},
   "outputs": [
    {
     "name": "stdout",
     "output_type": "stream",
     "text": [
      "      000   10  100   11   15  1st   20  2011   24  2nd  ...   yr  zappo  \\\n",
      "0     0.0  0.0  0.0  0.0  0.0  0.0  0.0   0.0  0.0  0.0  ...  0.0    0.0   \n",
      "1     0.0  0.0  0.0  0.0  0.0  0.0  0.0   0.0  0.0  0.0  ...  0.0    0.0   \n",
      "2     0.0  0.0  0.0  0.0  0.0  0.0  0.0   0.0  0.0  0.0  ...  0.0    0.0   \n",
      "3     0.0  0.0  0.0  0.0  0.0  0.0  0.0   0.0  0.0  0.0  ...  0.0    0.0   \n",
      "4     0.0  0.0  0.0  0.0  0.0  0.0  0.0   0.0  0.0  0.0  ...  0.0    0.0   \n",
      "...   ...  ...  ...  ...  ...  ...  ...   ...  ...  ...  ...  ...    ...   \n",
      "2332  0.0  0.0  0.0  0.0  0.0  0.0  0.0   0.0  0.0  0.0  ...  0.0    0.0   \n",
      "2333  0.0  0.0  0.0  0.0  0.0  0.0  0.0   0.0  0.0  0.0  ...  0.0    0.0   \n",
      "2334  0.0  0.0  0.0  0.0  0.0  0.0  0.0   0.0  0.0  0.0  ...  0.0    0.0   \n",
      "2335  0.0  0.0  0.0  0.0  0.0  0.0  0.0   0.0  0.0  0.0  ...  0.0    0.0   \n",
      "2336  0.0  0.0  0.0  0.0  0.0  0.0  0.0   0.0  0.0  0.0  ...  0.0    0.0   \n",
      "\n",
      "      zazzlesxsw  zomg   û_   ûª  ûªll   ûï   ûò   ûó  \n",
      "0       0.000000   0.0  0.0  0.0   0.0  0.0  0.0  0.0  \n",
      "1       0.000000   0.0  0.0  0.0   0.0  0.0  0.0  0.0  \n",
      "2       0.000000   0.0  0.0  0.0   0.0  0.0  0.0  0.0  \n",
      "3       0.000000   0.0  0.0  0.0   0.0  0.0  0.0  0.0  \n",
      "4       0.000000   0.0  0.0  0.0   0.0  0.0  0.0  0.0  \n",
      "...          ...   ...  ...  ...   ...  ...  ...  ...  \n",
      "2332    0.412586   0.0  0.0  0.0   0.0  0.0  0.0  0.0  \n",
      "2333    0.000000   0.0  0.0  0.0   0.0  0.0  0.0  0.0  \n",
      "2334    0.000000   0.0  0.0  0.0   0.0  0.0  0.0  0.0  \n",
      "2335    0.000000   0.0  0.0  0.0   0.0  0.0  0.0  0.0  \n",
      "2336    0.000000   0.0  0.0  0.0   0.0  0.0  0.0  0.0  \n",
      "\n",
      "[2337 rows x 1000 columns]\n"
     ]
    }
   ],
   "source": [
    "from sklearn.feature_extraction.text import TfidfVectorizer\n",
    "\n",
    "# Initialize the TF-IDF vectorizer\n",
    "tfidf_vectorizer = TfidfVectorizer(max_features=1000)  # You can adjust max_features as needed\n",
    "\n",
    "# Fit and transform the cleaned tweets to TF-IDF features\n",
    "tfidf_features = tfidf_vectorizer.fit_transform(Apple_df['Cleaned_Tweets'])\n",
    "\n",
    "# Convert the TF-IDF features to a DataFrame\n",
    "tfidf_df = pd.DataFrame(tfidf_features.toarray(), columns=tfidf_vectorizer.get_feature_names_out())\n",
    "\n",
    "# Display the TF-IDF DataFrame\n",
    "print(tfidf_df)\n"
   ]
  },
  {
   "cell_type": "code",
   "execution_count": 46,
   "id": "974b5e1c-d463-4523-8762-88db437e3280",
   "metadata": {},
   "outputs": [
    {
     "name": "stdout",
     "output_type": "stream",
     "text": [
      "Training set shape: (1635,) (1635,)\n",
      "Testing set shape: (702,) (702,)\n"
     ]
    }
   ],
   "source": [
    "from sklearn.model_selection import train_test_split\n",
    "\n",
    "# Split the data into features (X) and target (y)\n",
    "X = Apple_df['Cleaned_Tweets']\n",
    "y = Apple_df['Sentiment']\n",
    "\n",
    "# Split the data into training and testing sets\n",
    "X_train, X_test, y_train, y_test = train_test_split(X, y, test_size=0.3, random_state=42)\n",
    "\n",
    "# Print the shapes of the training and testing sets\n",
    "print(\"Training set shape:\", X_train.shape, y_train.shape)\n",
    "print(\"Testing set shape:\", X_test.shape, y_test.shape)"
   ]
  },
  {
   "cell_type": "code",
   "execution_count": 47,
   "id": "4bb053a0-9e76-449c-b72d-bea12c40a756",
   "metadata": {},
   "outputs": [
    {
     "name": "stdout",
     "output_type": "stream",
     "text": [
      "              precision    recall  f1-score   support\n",
      "\n",
      "    Negative       0.88      0.13      0.22       111\n",
      "    Positive       0.86      1.00      0.92       591\n",
      "\n",
      "    accuracy                           0.86       702\n",
      "   macro avg       0.87      0.56      0.57       702\n",
      "weighted avg       0.86      0.86      0.81       702\n",
      "\n"
     ]
    }
   ],
   "source": [
    "from sklearn.model_selection import train_test_split\n",
    "from sklearn.feature_extraction.text import TfidfVectorizer\n",
    "from sklearn.naive_bayes import MultinomialNB\n",
    "from sklearn.metrics import classification_report\n",
    "\n",
    "# Vectorize the text data using TF-IDF\n",
    "\n",
    "X_train_tfidf = tfidf_vectorizer.fit_transform(X_train)\n",
    "X_test_tfidf = tfidf_vectorizer.transform(X_test)\n",
    "\n",
    "# Choose and train the Naive Bayes classifier\n",
    "nb_classifier = MultinomialNB()\n",
    "nb_classifier.fit(X_train_tfidf, y_train)\n",
    "\n",
    "# Evaluate the model\n",
    "y_pred = nb_classifier.predict(X_test_tfidf)\n",
    "print(classification_report(y_test, y_pred))"
   ]
  },
  {
   "cell_type": "markdown",
   "id": "ba59b8c4-c029-46b3-9556-ce15a53ea8ab",
   "metadata": {},
   "source": [
    "# Adding tweets"
   ]
  },
  {
   "cell_type": "code",
   "execution_count": 48,
   "id": "8973e268-b8e9-4d9b-aa2b-3e19322fced9",
   "metadata": {},
   "outputs": [],
   "source": [
    "import random\n",
    "\n",
    "#Negative sentiment words or phrases\n",
    "negative_tweets = [\"My iPad 2 just crashed AGAIN at #SXSW. Apple, you call this a reliable device? #iPadFail\",\n",
    "\"Thinking of switching to Android. Sick of the constant glitches on my iPhone 5. #iPhoneProblems #SXSW\",\n",
    "\"iPad 2 battery life is a joke. Can't even make it through half a day at #SXSW. #iPadBatteryWoes\",\n",
    "\"UberSocial for iPhone is a nightmare. Constantly freezing on me. Thanks, Apple. #iPhoneFail #SXSW\",\n",
    "\"Left my MacBook Pro at home. Now stuck with just my iPad 2 at #SXSW. Not ideal. #iPadOnly\",\n",
    "\"Seriously regretting upgrading my iPad 2 to the latest iOS. Nothing but problems now. #iPadIssues #SXSW\",\n",
    "\"My iPhone 5 camera quality is laughable. Can't capture any decent photos at #SXSW. #iPhoneFail\",\n",
    "\"Can't connect to WiFi on my iPhone 5. What's the point of having a smartphone? #iPhoneWiFiIssues #SXSW\",\n",
    "\"iPad 2 screen froze in the middle of a presentation. Embarrassing. Thanks, Apple. #iPadProblems #SXSW\",\n",
    "\"The iPhone 5 battery drains faster than I can say 'SXSW'. Completely unreliable. #iPhoneBatteryWoes\",\n",
    "\"Forget about multitasking on the iPad 2. It's a lost cause at #SXSW. #iPadFail\",\n",
    "\"Downloaded the latest iOS update and now my iPad 2 won't stop crashing. Thanks, Apple. #iPadIssues #SXSW\",\n",
    "\"Trying to work on my iPad 2 without my MacBook Pro is a nightmare. #iPadStruggles #SXSW\",\n",
    "\"The iPhone 5 is supposed to be an upgrade, but it's nothing but trouble at #SXSW. #iPhoneFail\",\n",
    "\"Lost all my data on my iPad 2 after the latest update. Thanks for nothing, Apple. #iPadFail #SXSW\",\n",
    "\"Can't even send a text on my iPhone 5 without it freezing. What a joke. #iPhoneProblems #SXSW\",\n",
    "\"The iPad 2 battery life is pathetic. Can't believe I rely on this thing. #iPadBatteryWoes #SXSW\",\n",
    "\"UberSocial for iPhone is the worst app I've ever used. Constantly crashing. #iPhoneFail #SXSW\",\n",
    "\"My MacBook Pro died, now stuck with just my iPad 2 at #SXSW. Not happy. #iPadOnly\",\n",
    "\"Thinking of selling my iPhone 5 and switching to a more reliable device. #iPhoneIssues #SXSW\"],\n",
    "\"The iPad 2's keyboard is so frustrating to type on. Can't wait to switch back to my MacBook Pro. #iPadKeyboardWoes #SXSW\",\n",
    "\"Just dropped my iPhone 5 and the screen shattered. Great build quality, Apple. #iPhoneFail #SXSW\",\n",
    "\"TweetDeck is practically unusable on my iPad 2. Constantly crashing. #iPadProblems #SXSW\",\n",
    "\"Left my MacBook Pro at home and now regretting it. iPad 2 just doesn't cut it. #iPadStruggles #SXSW\",\n",
    "\"The iPhone 5's battery life is abysmal. Can barely last a few hours at #SXSW. #iPhoneBatteryWoes\",\n",
    "\"My iPad 2 won't connect to any WiFi networks at #SXSW. What's the point of having a tablet? #iPadFail\",\n",
    "\"Had high hopes for the iPhone 5, but it's been nothing but disappointment at #SXSW. #iPhoneIssues\",\n",
    "\"Just spilled coffee on my iPad 2. Great start to the day. Thanks, Apple. #iPadFail #SXSW\",\n",
    "\"The iPhone 5's camera quality is laughable. Can't even take decent photos at #SXSW. #iPhoneFail\",\n",
    "\"The iPad 2's battery drains faster than I can charge it. Completely useless. #iPadBatteryWoes #SXSW\",\n",
    "\"iPhone 5 screen froze again. Sick of these constant glitches. #iPhoneProblems #SXSW\",\n",
    "\"UberSocial for iPhone is the worst app ever. Crashes every time I try to use it. #iPhoneFail #SXSW\",\n",
    "\"My iPad 2 randomly shuts down multiple times a day. Absolutely infuriating. #iPadFail #SXSW\",\n",
    "\"The iPhone 5's screen sensitivity is all over the place. Can't even type properly. #iPhoneIssues #SXSW\",\n",
    "\"iPad 2's performance is so sluggish. Can't keep up with the demands of #SXSW. #iPadProblems\",\n",
    "\"Forgot to charge my iPhone 5 overnight and it's already dead. Seriously? #iPhoneBatteryWoes #SXSW\",\n",
    "\"The iPad 2's keyboard is impossible to type on. Constantly making typos. #iPadKeyboardWoes #SXSW\",\n",
    "\"Tried to watch a video on my iPhone 5 and it froze halfway through. Typical. #iPhoneFail #SXSW\",\n",
    "\"The iPhone 5's battery life is laughable. Barely lasts a few hours at #SXSW. #iPhoneBatteryWoes\",\n",
    "\"Lost all my data on my iPad 2 after the latest update. Thanks for nothing, Apple. #iPadFail #SXSW\",\n",
    "\"Spent a fortune on the iPhone 5 and it's already acting up. Typical Apple quality. #iPhoneIssues\",\n",
    "\"The iPad 2's battery drains faster than I can charge it. What's the point? #iPadBatteryWoes\",\n",
    "\"Forgot my MacBook Pro and stuck with the iPad 2. Not a productive day at #SXSW. #iPadStruggles\",\n",
    "\"iPhone 5's camera quality is disappointing. Can't capture any decent photos. #iPhoneFail\",\n",
    "\"iPad 2's keyboard is frustratingly small. Typing is a nightmare. #iPadKeyboardWoes\",\n",
    "\"iPhone 5's battery life is abysmal. Can barely last a few hours. #iPhoneBatteryWoes\",\n",
    "\"The iPad 2's performance is sluggish. Can't handle multitasking. #iPadProblems\",\n",
    "\"iPhone 5's screen froze again. Sick of these constant glitches. #iPhoneProblems\",\n",
    "\"UberSocial for iPhone crashes every time I open it. Useless app. #iPhoneFail\",\n",
    "\"My iPad 2 keeps randomly shutting down. Beyond frustrating. #iPadFail\",\n",
    "\"iPhone 5's screen sensitivity is erratic. Constantly registering false touches. #iPhoneIssues\",\n",
    "\"iPad 2's battery drains within hours. Not ideal for a full day at #SXSW. #iPadBatteryWoes\",\n",
    "\"Left my MacBook Pro at home and regretting it. iPad 2 just can't compare. #iPadStruggles\",\n",
    "\"iPhone 5's camera quality is subpar. Can't capture decent photos. #iPhoneFail\",\n",
    "\"The iPad 2's keyboard layout is infuriating. Constantly hitting the wrong keys. #iPadKeyboardWoes\",\n",
    "\"iPhone 5's battery dies within minutes. Unacceptable for a flagship device. #iPhoneBatteryWoes\",\n",
    "\"Tried watching a video on my iPhone 5 and it froze. What a disappointment. #iPhoneFail\",\n",
    "\"iPad 2's performance is lagging behind. Can't keep up with basic tasks. #iPadProblems\",\n",
    "\"iPhone 5's screen sensitivity is all over the place. Frustrating to use. #iPhoneIssues\",\n",
    "\"Forgot to charge my iPhone 5 and it's already dead. Great. #iPhoneBatteryWoes\",\n",
    "\"The iPad 2's screen keeps flickering. Hard to focus on anything. #iPadIssues\",\n",
    "\"iPhone 5's speaker suddenly stopped working. No sound at all. #iPhoneFail\",\n",
    "\"The iPad 2's storage is full after just a few apps. Ridiculous limitation. #iPadProblems\",\n",
    "\"iPhone 5's software update crashed my device. Now it won't turn on. #iPhoneFail\",\n",
    "\"iPad 2's app crashes every time I try to open it. Can't get anything done. #iPadIssues\",\n",
    "\"iPhone 5's touchscreen is unresponsive. Can't even unlock the device. #iPhoneFail\",\n",
    "\"The iPad 2's camera quality is grainy and blurry. Disappointing. #iPadCameraWoes\",\n",
    "\"iPhone 5's battery drains rapidly, even on standby. What a waste. #iPhoneBatteryWoes\",\n",
    "\"iPad 2's screen keeps freezing randomly. Hard to use in this condition. #iPadIssues\",\n",
    "\"iPhone 5's signal keeps dropping, even in areas with full coverage. #iPhoneFail\",\n",
    "\"The iPad 2's screen has a weird yellow tint. Not what I expected. #iPadQualityIssues\",\n",
    "\"iPhone 5's Wi-Fi connection is unstable. Keeps disconnecting. #iPhoneFail\",\n",
    "\"iPad 2's software update messed up the settings. Now it's a mess. #iPadIssues\",\n",
    "\"iPhone 5's touchscreen is glitchy. It's like it has a mind of its own. #iPhoneIssues\",\n",
    "\"The iPad 2's battery life is shorter than ever. Can't rely on it anymore. #iPadBatteryWoes\",\n",
    "\"iPhone 5's camera app crashes every time I try to take a photo. #iPhoneFail\",\n",
    "\"iPad 2's screen is too reflective. Can't see anything in bright sunlight. #iPadIssues\",\n",
    "\"iPhone 5's screen is flickering uncontrollably. Can't use it like this. #iPhoneIssues\",\n",
    "\"The iPad 2's speaker stopped working suddenly. No sound at all. #iPadFail\",\n",
    "\"iPhone 5's software update erased all my data. Lost everything. #iPhoneFail\",\n",
    "\n",
    "\n",
    "\n"
   ]
  },
  {
   "cell_type": "code",
   "execution_count": 49,
   "id": "49d58d82-775f-4c67-8a08-76190c99d916",
   "metadata": {},
   "outputs": [
    {
     "name": "stdout",
     "output_type": "stream",
     "text": [
      "                                                                                                                            Tweets  \\\n",
      "0  (CNNMoney) For #SXSW 2011, any computing device bigger than an iPad is passÌ©. The mobile space has all the buzz {link} #wssxsw   \n",
      "1                                          RT @mention If #sxsw taught me anything, its that I want an iPad 2 and I dont know why.   \n",
      "2                                    @mention Not to shill for the iPad but don't underestimate its appeal. {link} #newsapps #sxsw   \n",
      "3                                                                          #SXSW crowd swarms for iPad 2 launch  | @mention {link}   \n",
      "4               Apple store peeps come running, high-fiving all in line. Open any sec? Enuf for all us chumps? #SXSW #ipad2 {link}   \n",
      "\n",
      "   Brand Sentiment  \\\n",
      "0  Apple  Positive   \n",
      "1  Apple  Positive   \n",
      "2  Apple  Positive   \n",
      "3  Apple  Positive   \n",
      "4  Apple  Positive   \n",
      "\n",
      "                                                                   Cleaned_Tweets  \n",
      "0  cnnmoney sxsw 2011 comput devic bigger ipad passì mobil space buzz link wssxsw  \n",
      "1                              rt mention sxsw taught anyth want ipad 2 dont know  \n",
      "2                          mention shill ipad underestim appeal link newsapp sxsw  \n",
      "3                                     sxsw crowd swarm ipad 2 launch mention link  \n",
      "4  appl store peep come run high five line open sec enuf us chump sxsw ipad2 link  \n"
     ]
    }
   ],
   "source": [
    "# Create a DataFrame for fake negative tweets\n",
    "fake_negative_df = pd.DataFrame({\"Tweets\": fake_negative_tweets, \"Sentiment\": \"Negative\"})\n",
    "\n",
    "# Create a DataFrame for fake neutral tweets\n",
    "fake_neutral_df = pd.DataFrame({\"Tweets\": fake_neutral_tweets, \"Sentiment\": \"Neutral\"})\n",
    "\n",
    "# Concatenate the fake tweets DataFrames with Apple_df\n",
    "Apple_df = pd.concat([Apple_df, fake_negative_df, fake_neutral_df], ignore_index=True)\n",
    "\n",
    "# Shuffle the DataFrame to randomize the order of tweets\n",
    "Apple_df = Apple_df.sample(frac=1, random_state=42).reset_index(drop=True)\n",
    "\n",
    "# Print the first few rows of the updated DataFrame\n",
    "print(Apple_df.head())\n"
   ]
  },
  {
   "cell_type": "code",
   "execution_count": 50,
   "id": "b9e3d61d-16b3-49f8-8c6c-6e58af24a249",
   "metadata": {},
   "outputs": [
    {
     "data": {
      "text/plain": [
       "Sentiment\n",
       "Positive    1949\n",
       "Negative     588\n",
       "Neutral      300\n",
       "Name: count, dtype: int64"
      ]
     },
     "execution_count": 50,
     "metadata": {},
     "output_type": "execute_result"
    }
   ],
   "source": [
    "Apple_df['Sentiment'].value_counts()"
   ]
  },
  {
   "cell_type": "code",
   "execution_count": 51,
   "id": "3bb060b3-9fe2-4846-b67f-033c57ab7c95",
   "metadata": {},
   "outputs": [
    {
     "name": "stdout",
     "output_type": "stream",
     "text": [
      "              precision    recall  f1-score   support\n",
      "\n",
      "    Negative       0.48      0.07      0.12       183\n",
      "     Neutral       0.00      0.00      0.00        91\n",
      "    Positive       0.68      0.98      0.80       578\n",
      "\n",
      "    accuracy                           0.68       852\n",
      "   macro avg       0.39      0.35      0.31       852\n",
      "weighted avg       0.57      0.68      0.57       852\n",
      "\n"
     ]
    },
    {
     "name": "stderr",
     "output_type": "stream",
     "text": [
      "/Users/trevorjames/anaconda3/envs/learn-env/lib/python3.9/site-packages/sklearn/metrics/_classification.py:1509: UndefinedMetricWarning: Precision is ill-defined and being set to 0.0 in labels with no predicted samples. Use `zero_division` parameter to control this behavior.\n",
      "  _warn_prf(average, modifier, f\"{metric.capitalize()} is\", len(result))\n",
      "/Users/trevorjames/anaconda3/envs/learn-env/lib/python3.9/site-packages/sklearn/metrics/_classification.py:1509: UndefinedMetricWarning: Precision is ill-defined and being set to 0.0 in labels with no predicted samples. Use `zero_division` parameter to control this behavior.\n",
      "  _warn_prf(average, modifier, f\"{metric.capitalize()} is\", len(result))\n",
      "/Users/trevorjames/anaconda3/envs/learn-env/lib/python3.9/site-packages/sklearn/metrics/_classification.py:1509: UndefinedMetricWarning: Precision is ill-defined and being set to 0.0 in labels with no predicted samples. Use `zero_division` parameter to control this behavior.\n",
      "  _warn_prf(average, modifier, f\"{metric.capitalize()} is\", len(result))\n"
     ]
    }
   ],
   "source": [
    "from sklearn.model_selection import train_test_split\n",
    "\n",
    "# Preprocess the new data\n",
    "Apple_df['Cleaned_Tweets'] = Apple_df['Tweets'].apply(preprocess_text)\n",
    "\n",
    "# Split the data into training and testing sets\n",
    "X_train2, X_test2, y_train2, y_test2 = train_test_split(Apple_df['Cleaned_Tweets'], Apple_df['Sentiment'], test_size=0.3, random_state=42)\n",
    "\n",
    "# Vectorize the new data\n",
    "X_train2_tfidf = tfidf_vectorizer.fit_transform(X_train2)\n",
    "new_data_tfidf = tfidf_vectorizer.transform(X_test2)\n",
    "\n",
    "# Make predictions\n",
    "predictions = nb_classifier.predict(new_data_tfidf)\n",
    "\n",
    "# Print classification report\n",
    "print(classification_report(y_test2, predictions))\n"
   ]
  },
  {
   "cell_type": "code",
   "execution_count": null,
   "id": "b876a80c-2aad-44d3-9398-9f67cdb8ad87",
   "metadata": {},
   "outputs": [],
   "source": []
  },
  {
   "cell_type": "code",
   "execution_count": null,
   "id": "6fa19176-31e7-46d5-832c-acb5b2e31b22",
   "metadata": {},
   "outputs": [],
   "source": []
  },
  {
   "cell_type": "code",
   "execution_count": null,
   "id": "7ca7e0ae-ed34-4801-88c2-102709526a96",
   "metadata": {},
   "outputs": [],
   "source": []
  },
  {
   "cell_type": "code",
   "execution_count": null,
   "id": "77278678-f991-4a10-b266-29bdc1d09167",
   "metadata": {},
   "outputs": [],
   "source": []
  },
  {
   "cell_type": "code",
   "execution_count": null,
   "id": "89312bb9-459d-4385-8b31-a5255c6dbf1b",
   "metadata": {},
   "outputs": [],
   "source": []
  },
  {
   "cell_type": "code",
   "execution_count": null,
   "id": "d8cd8360-a133-4957-b146-69aa02267699",
   "metadata": {},
   "outputs": [],
   "source": []
  },
  {
   "cell_type": "code",
   "execution_count": null,
   "id": "82f563d2-a1a6-4160-afc2-fe3b72816a2a",
   "metadata": {},
   "outputs": [],
   "source": []
  },
  {
   "cell_type": "markdown",
   "id": "f965aad1-b985-43d0-a55a-02bdb6c8d72f",
   "metadata": {},
   "source": [
    "# New Dataset from Kaggle"
   ]
  },
  {
   "cell_type": "code",
   "execution_count": 464,
   "id": "4fb07047-f884-4e19-8379-abd95c91ef7c",
   "metadata": {},
   "outputs": [],
   "source": [
    "df2 = pd.read_csv('data/apple-twitter-sentiment-texts.csv')"
   ]
  },
  {
   "cell_type": "code",
   "execution_count": 465,
   "id": "51761458-533c-4ff2-8679-ecd24dad1956",
   "metadata": {},
   "outputs": [
    {
     "data": {
      "text/html": [
       "<div>\n",
       "<style scoped>\n",
       "    .dataframe tbody tr th:only-of-type {\n",
       "        vertical-align: middle;\n",
       "    }\n",
       "\n",
       "    .dataframe tbody tr th {\n",
       "        vertical-align: top;\n",
       "    }\n",
       "\n",
       "    .dataframe thead th {\n",
       "        text-align: right;\n",
       "    }\n",
       "</style>\n",
       "<table border=\"1\" class=\"dataframe\">\n",
       "  <thead>\n",
       "    <tr style=\"text-align: right;\">\n",
       "      <th></th>\n",
       "      <th>text</th>\n",
       "      <th>sentiment</th>\n",
       "    </tr>\n",
       "  </thead>\n",
       "  <tbody>\n",
       "    <tr>\n",
       "      <th>0</th>\n",
       "      <td>Wow. Yall needa step it up @Apple RT @heynyla:...</td>\n",
       "      <td>-1</td>\n",
       "    </tr>\n",
       "    <tr>\n",
       "      <th>1</th>\n",
       "      <td>What Happened To Apple Inc?   http://t.co/FJEX...</td>\n",
       "      <td>0</td>\n",
       "    </tr>\n",
       "    <tr>\n",
       "      <th>2</th>\n",
       "      <td>Thank u @apple I can now compile all of the pi...</td>\n",
       "      <td>1</td>\n",
       "    </tr>\n",
       "    <tr>\n",
       "      <th>3</th>\n",
       "      <td>The oddly uplifting story of the Apple co-foun...</td>\n",
       "      <td>0</td>\n",
       "    </tr>\n",
       "    <tr>\n",
       "      <th>4</th>\n",
       "      <td>@apple can i exchange my iphone for a differen...</td>\n",
       "      <td>0</td>\n",
       "    </tr>\n",
       "  </tbody>\n",
       "</table>\n",
       "</div>"
      ],
      "text/plain": [
       "                                                text  sentiment\n",
       "0  Wow. Yall needa step it up @Apple RT @heynyla:...         -1\n",
       "1  What Happened To Apple Inc?   http://t.co/FJEX...          0\n",
       "2  Thank u @apple I can now compile all of the pi...          1\n",
       "3  The oddly uplifting story of the Apple co-foun...          0\n",
       "4  @apple can i exchange my iphone for a differen...          0"
      ]
     },
     "execution_count": 465,
     "metadata": {},
     "output_type": "execute_result"
    }
   ],
   "source": [
    "df2.head()"
   ]
  },
  {
   "cell_type": "code",
   "execution_count": 466,
   "id": "e9c1d32d-75f3-410a-bb6e-dba3e9f49ce2",
   "metadata": {},
   "outputs": [
    {
     "name": "stdout",
     "output_type": "stream",
     "text": [
      "<class 'pandas.core.frame.DataFrame'>\n",
      "RangeIndex: 1630 entries, 0 to 1629\n",
      "Data columns (total 2 columns):\n",
      " #   Column     Non-Null Count  Dtype \n",
      "---  ------     --------------  ----- \n",
      " 0   text       1630 non-null   object\n",
      " 1   sentiment  1630 non-null   int64 \n",
      "dtypes: int64(1), object(1)\n",
      "memory usage: 25.6+ KB\n"
     ]
    }
   ],
   "source": [
    "df2.info()"
   ]
  },
  {
   "cell_type": "code",
   "execution_count": 467,
   "id": "6545a817-757b-4902-8ff3-f441f4138868",
   "metadata": {},
   "outputs": [
    {
     "data": {
      "text/plain": [
       "sentiment\n",
       " 0    801\n",
       "-1    686\n",
       " 1    143\n",
       "Name: count, dtype: int64"
      ]
     },
     "execution_count": 467,
     "metadata": {},
     "output_type": "execute_result"
    }
   ],
   "source": [
    "df2['sentiment'].value_counts()"
   ]
  },
  {
   "cell_type": "code",
   "execution_count": 468,
   "id": "784f198f-7076-4c8a-9a76-577723d0a9a1",
   "metadata": {},
   "outputs": [],
   "source": [
    "# Rename the column\n",
    "df2.rename(columns={'text': 'Tweets'}, inplace=True)\n",
    "df2.rename(columns={'sentiment': 'Sentiment'}, inplace=True)"
   ]
  },
  {
   "cell_type": "code",
   "execution_count": 469,
   "id": "6d63f016-2aad-45ef-b7cd-3f8736a0e042",
   "metadata": {},
   "outputs": [
    {
     "name": "stdout",
     "output_type": "stream",
     "text": [
      "<class 'pandas.core.frame.DataFrame'>\n",
      "RangeIndex: 1630 entries, 0 to 1629\n",
      "Data columns (total 2 columns):\n",
      " #   Column     Non-Null Count  Dtype \n",
      "---  ------     --------------  ----- \n",
      " 0   Tweets     1630 non-null   object\n",
      " 1   Sentiment  1630 non-null   int64 \n",
      "dtypes: int64(1), object(1)\n",
      "memory usage: 25.6+ KB\n"
     ]
    }
   ],
   "source": [
    "df2.info()"
   ]
  },
  {
   "cell_type": "code",
   "execution_count": 470,
   "id": "18bb976d-678a-48c3-b31e-09d9e24bfdfd",
   "metadata": {},
   "outputs": [],
   "source": [
    "df2['Sentiment'] = df2['Sentiment'].replace({\n",
    "    -1: 'Negative',\n",
    "    0: 'Neutral',\n",
    "    1: 'Positive'\n",
    "})"
   ]
  },
  {
   "cell_type": "code",
   "execution_count": 471,
   "id": "119262ac-bdaf-4c42-801c-14b687043cf8",
   "metadata": {},
   "outputs": [
    {
     "data": {
      "text/plain": [
       "Sentiment\n",
       "Neutral     801\n",
       "Negative    686\n",
       "Positive    143\n",
       "Name: count, dtype: int64"
      ]
     },
     "execution_count": 471,
     "metadata": {},
     "output_type": "execute_result"
    }
   ],
   "source": [
    "df2['Sentiment'].value_counts()"
   ]
  },
  {
   "cell_type": "code",
   "execution_count": 472,
   "id": "65711fb4-2c43-43bb-aadc-5d4a1237d98e",
   "metadata": {},
   "outputs": [],
   "source": [
    "df2['Brand'] = 'Apple'"
   ]
  },
  {
   "cell_type": "code",
   "execution_count": 473,
   "id": "49c8700e-e7a8-4f9b-b739-4150ed5d03a9",
   "metadata": {},
   "outputs": [
    {
     "name": "stdout",
     "output_type": "stream",
     "text": [
      "<class 'pandas.core.frame.DataFrame'>\n",
      "RangeIndex: 1630 entries, 0 to 1629\n",
      "Data columns (total 3 columns):\n",
      " #   Column     Non-Null Count  Dtype \n",
      "---  ------     --------------  ----- \n",
      " 0   Tweets     1630 non-null   object\n",
      " 1   Sentiment  1630 non-null   object\n",
      " 2   Brand      1630 non-null   object\n",
      "dtypes: object(3)\n",
      "memory usage: 38.3+ KB\n"
     ]
    }
   ],
   "source": [
    "df2.info()"
   ]
  },
  {
   "cell_type": "code",
   "execution_count": 474,
   "id": "b53c6ae5-259c-4a79-9b4f-39d6750239df",
   "metadata": {},
   "outputs": [],
   "source": [
    "Apple_merged_df = pd.concat([Apple_df, df2], ignore_index=True)"
   ]
  },
  {
   "cell_type": "code",
   "execution_count": 475,
   "id": "9a3327cf-c405-4d21-9a9e-344cdeb0d878",
   "metadata": {},
   "outputs": [
    {
     "data": {
      "text/html": [
       "<div>\n",
       "<style scoped>\n",
       "    .dataframe tbody tr th:only-of-type {\n",
       "        vertical-align: middle;\n",
       "    }\n",
       "\n",
       "    .dataframe tbody tr th {\n",
       "        vertical-align: top;\n",
       "    }\n",
       "\n",
       "    .dataframe thead th {\n",
       "        text-align: right;\n",
       "    }\n",
       "</style>\n",
       "<table border=\"1\" class=\"dataframe\">\n",
       "  <thead>\n",
       "    <tr style=\"text-align: right;\">\n",
       "      <th></th>\n",
       "      <th>Tweets</th>\n",
       "      <th>Brand</th>\n",
       "      <th>Sentiment</th>\n",
       "      <th>Cleaned_Tweets</th>\n",
       "    </tr>\n",
       "  </thead>\n",
       "  <tbody>\n",
       "    <tr>\n",
       "      <th>0</th>\n",
       "      <td>Someone's buying herself a present ;-) RT @men...</td>\n",
       "      <td>Apple</td>\n",
       "      <td>Positive</td>\n",
       "      <td>someon buy present rt mention appl open pop st...</td>\n",
       "    </tr>\n",
       "    <tr>\n",
       "      <th>1</th>\n",
       "      <td>Just picked up my iPad 2, now back to #sxsw {l...</td>\n",
       "      <td>Apple</td>\n",
       "      <td>Positive</td>\n",
       "      <td>pick ipad 2 back sxsw link</td>\n",
       "    </tr>\n",
       "    <tr>\n",
       "      <th>2</th>\n",
       "      <td>Evernote + iPhone is awesome for #sxsw notes/p...</td>\n",
       "      <td>Apple</td>\n",
       "      <td>Positive</td>\n",
       "      <td>evernot iphon awesom sxsw note photo taccsxsw</td>\n",
       "    </tr>\n",
       "    <tr>\n",
       "      <th>3</th>\n",
       "      <td>RT @mention Only at #SxSW: &amp;quot;My iPhone wil...</td>\n",
       "      <td>Apple</td>\n",
       "      <td>Positive</td>\n",
       "      <td>rt mention sxsw quot iphon tell know mean win ...</td>\n",
       "    </tr>\n",
       "    <tr>\n",
       "      <th>4</th>\n",
       "      <td>I want yall to know Apple built a pop up store...</td>\n",
       "      <td>Apple</td>\n",
       "      <td>Positive</td>\n",
       "      <td>want yall know appl built pop store 3 day sell...</td>\n",
       "    </tr>\n",
       "  </tbody>\n",
       "</table>\n",
       "</div>"
      ],
      "text/plain": [
       "                                              Tweets  Brand Sentiment  \\\n",
       "0  Someone's buying herself a present ;-) RT @men...  Apple  Positive   \n",
       "1  Just picked up my iPad 2, now back to #sxsw {l...  Apple  Positive   \n",
       "2  Evernote + iPhone is awesome for #sxsw notes/p...  Apple  Positive   \n",
       "3  RT @mention Only at #SxSW: &quot;My iPhone wil...  Apple  Positive   \n",
       "4  I want yall to know Apple built a pop up store...  Apple  Positive   \n",
       "\n",
       "                                      Cleaned_Tweets  \n",
       "0  someon buy present rt mention appl open pop st...  \n",
       "1                         pick ipad 2 back sxsw link  \n",
       "2      evernot iphon awesom sxsw note photo taccsxsw  \n",
       "3  rt mention sxsw quot iphon tell know mean win ...  \n",
       "4  want yall know appl built pop store 3 day sell...  "
      ]
     },
     "execution_count": 475,
     "metadata": {},
     "output_type": "execute_result"
    }
   ],
   "source": [
    "Apple_merged_df.head()"
   ]
  },
  {
   "cell_type": "code",
   "execution_count": 476,
   "id": "b0f2bd02-7b86-408f-bb74-53caebaaf91b",
   "metadata": {},
   "outputs": [
    {
     "name": "stdout",
     "output_type": "stream",
     "text": [
      "<class 'pandas.core.frame.DataFrame'>\n",
      "RangeIndex: 4532 entries, 0 to 4531\n",
      "Data columns (total 4 columns):\n",
      " #   Column          Non-Null Count  Dtype \n",
      "---  ------          --------------  ----- \n",
      " 0   Tweets          4532 non-null   object\n",
      " 1   Brand           4032 non-null   object\n",
      " 2   Sentiment       4532 non-null   object\n",
      " 3   Cleaned_Tweets  2902 non-null   object\n",
      "dtypes: object(4)\n",
      "memory usage: 141.8+ KB\n"
     ]
    }
   ],
   "source": [
    "Apple_merged_df.info()"
   ]
  },
  {
   "cell_type": "code",
   "execution_count": 477,
   "id": "6546d926-4235-4790-82fe-518452229478",
   "metadata": {},
   "outputs": [
    {
     "data": {
      "text/plain": [
       "Sentiment\n",
       "Positive    2092\n",
       "Negative    1274\n",
       "Neutral     1166\n",
       "Name: count, dtype: int64"
      ]
     },
     "execution_count": 477,
     "metadata": {},
     "output_type": "execute_result"
    }
   ],
   "source": [
    "Apple_merged_df['Sentiment'].value_counts()"
   ]
  },
  {
   "cell_type": "code",
   "execution_count": 478,
   "id": "a645a4fb-dca5-4a1e-b2a4-922a0c3a6c70",
   "metadata": {},
   "outputs": [
    {
     "data": {
      "text/plain": [
       "Tweets\n",
       "Still using the original first-generation Iphone #sxsw                                                                          26\n",
       "Attending the Apple SXSW event today. Curious to see what they have in store. #SXSW #Apple                                      25\n",
       "Apple's presence at SXSW is impressive, but I'm not sure if it's worth the hype. #SXSW #Apple                                   23\n",
       "Listening to the Apple panel at SXSW. Neutral on the content so far. #SXSW #Apple                                               21\n",
       "Not feeling particularly excited about the Apple activation at SXSW. It's just okay. #SXSW #Apple                               19\n",
       "                                                                                                                                ..\n",
       "@mention on the other hand, judging by the pop-up store constant line, Apple and the iPad2 are clearly breaking out at #SXSW     1\n",
       "just ordered my ipad 2 and am excited to be at #SXSW, but it all seems silly with what's happening in japan right now.           1\n",
       "Apple's pop-up store plans for #SXSW in Austin {link}                                                                            1\n",
       "Just bought iPad 2. In and out in 15 minutes #SXSW (@mention Apple Store, SXSW w/ 23 others) {link}                              1\n",
       "The iPhone 6 May Have A Longer Upgrade Cycle - If So, Expect Unit Sales To Fall $AAPL #aapl\\r\\nhttp://t.co/eP1ZksHNqJ            1\n",
       "Name: count, Length: 4167, dtype: int64"
      ]
     },
     "execution_count": 478,
     "metadata": {},
     "output_type": "execute_result"
    }
   ],
   "source": [
    "Apple_merged_df['Tweets'].value_counts()"
   ]
  },
  {
   "cell_type": "code",
   "execution_count": null,
   "id": "5b231c97-a3f3-42df-a12d-7782c7edc195",
   "metadata": {},
   "outputs": [],
   "source": []
  }
 ],
 "metadata": {
  "kernelspec": {
   "display_name": "Python 3 (ipykernel)",
   "language": "python",
   "name": "python3"
  },
  "language_info": {
   "codemirror_mode": {
    "name": "ipython",
    "version": 3
   },
   "file_extension": ".py",
   "mimetype": "text/x-python",
   "name": "python",
   "nbconvert_exporter": "python",
   "pygments_lexer": "ipython3",
   "version": "3.9.18"
  }
 },
 "nbformat": 4,
 "nbformat_minor": 5
}
